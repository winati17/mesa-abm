{
 "cells": [
  {
   "cell_type": "markdown",
   "metadata": {},
   "source": [
    "Import Dependencies\n"
   ]
  },
  {
   "cell_type": "code",
   "execution_count": 1,
   "metadata": {},
   "outputs": [
    {
     "name": "stdout",
     "output_type": "stream",
     "text": [
      "Defaulting to user installation because normal site-packages is not writeable\n",
      "Collecting mesa\n",
      "  Downloading mesa-3.0.3-py3-none-any.whl.metadata (9.8 kB)\n",
      "Requirement already satisfied: numpy in c:\\users\\lenovo\\appdata\\local\\packages\\pythonsoftwarefoundation.python.3.12_qbz5n2kfra8p0\\localcache\\local-packages\\python312\\site-packages (from mesa) (1.26.4)\n",
      "Requirement already satisfied: pandas in c:\\users\\lenovo\\appdata\\local\\packages\\pythonsoftwarefoundation.python.3.12_qbz5n2kfra8p0\\localcache\\local-packages\\python312\\site-packages (from mesa) (2.2.3)\n",
      "Requirement already satisfied: tqdm in c:\\users\\lenovo\\appdata\\local\\packages\\pythonsoftwarefoundation.python.3.12_qbz5n2kfra8p0\\localcache\\local-packages\\python312\\site-packages (from mesa) (4.66.5)\n",
      "Requirement already satisfied: python-dateutil>=2.8.2 in c:\\users\\lenovo\\appdata\\local\\packages\\pythonsoftwarefoundation.python.3.12_qbz5n2kfra8p0\\localcache\\local-packages\\python312\\site-packages (from pandas->mesa) (2.9.0.post0)\n",
      "Requirement already satisfied: pytz>=2020.1 in c:\\users\\lenovo\\appdata\\local\\packages\\pythonsoftwarefoundation.python.3.12_qbz5n2kfra8p0\\localcache\\local-packages\\python312\\site-packages (from pandas->mesa) (2024.2)\n",
      "Requirement already satisfied: tzdata>=2022.7 in c:\\users\\lenovo\\appdata\\local\\packages\\pythonsoftwarefoundation.python.3.12_qbz5n2kfra8p0\\localcache\\local-packages\\python312\\site-packages (from pandas->mesa) (2024.2)\n",
      "Requirement already satisfied: colorama in c:\\users\\lenovo\\appdata\\local\\packages\\pythonsoftwarefoundation.python.3.12_qbz5n2kfra8p0\\localcache\\local-packages\\python312\\site-packages (from tqdm->mesa) (0.4.6)\n",
      "Requirement already satisfied: six>=1.5 in c:\\users\\lenovo\\appdata\\local\\packages\\pythonsoftwarefoundation.python.3.12_qbz5n2kfra8p0\\localcache\\local-packages\\python312\\site-packages (from python-dateutil>=2.8.2->pandas->mesa) (1.16.0)\n",
      "Downloading mesa-3.0.3-py3-none-any.whl (226 kB)\n",
      "Installing collected packages: mesa\n",
      "Successfully installed mesa-3.0.3\n"
     ]
    },
    {
     "name": "stderr",
     "output_type": "stream",
     "text": [
      "\n",
      "[notice] A new release of pip is available: 24.2 -> 24.3.1\n",
      "[notice] To update, run: C:\\Users\\lenovo\\AppData\\Local\\Microsoft\\WindowsApps\\PythonSoftwareFoundation.Python.3.12_qbz5n2kfra8p0\\python.exe -m pip install --upgrade pip\n"
     ]
    }
   ],
   "source": [
    "!pip install mesa"
   ]
  },
  {
   "cell_type": "code",
   "execution_count": 2,
   "metadata": {},
   "outputs": [
    {
     "name": "stdout",
     "output_type": "stream",
     "text": [
      "Could not import SolaraViz. If you need it, install with 'pip install --pre mesa[viz]'\n"
     ]
    },
    {
     "name": "stderr",
     "output_type": "stream",
     "text": [
      "C:\\Users\\lenovo\\AppData\\Local\\Packages\\PythonSoftwareFoundation.Python.3.12_qbz5n2kfra8p0\\LocalCache\\local-packages\\Python312\\site-packages\\tqdm\\auto.py:21: TqdmWarning: IProgress not found. Please update jupyter and ipywidgets. See https://ipywidgets.readthedocs.io/en/stable/user_install.html\n",
      "  from .autonotebook import tqdm as notebook_tqdm\n"
     ]
    }
   ],
   "source": [
    "import mesa"
   ]
  },
  {
   "cell_type": "code",
   "execution_count": 3,
   "metadata": {},
   "outputs": [
    {
     "name": "stdout",
     "output_type": "stream",
     "text": [
      "Note: you may need to restart the kernel to use updated packages.\n"
     ]
    },
    {
     "name": "stderr",
     "output_type": "stream",
     "text": [
      "\n",
      "[notice] A new release of pip is available: 24.2 -> 24.3.1\n",
      "[notice] To update, run: C:\\Users\\lenovo\\AppData\\Local\\Microsoft\\WindowsApps\\PythonSoftwareFoundation.Python.3.12_qbz5n2kfra8p0\\python.exe -m pip install --upgrade pip\n"
     ]
    },
    {
     "name": "stdout",
     "output_type": "stream",
     "text": [
      "Defaulting to user installation because normal site-packages is not writeable\n",
      "Requirement already satisfied: mesa[viz] in c:\\users\\lenovo\\appdata\\local\\packages\\pythonsoftwarefoundation.python.3.12_qbz5n2kfra8p0\\localcache\\local-packages\\python312\\site-packages (3.0.3)\n",
      "Requirement already satisfied: numpy in c:\\users\\lenovo\\appdata\\local\\packages\\pythonsoftwarefoundation.python.3.12_qbz5n2kfra8p0\\localcache\\local-packages\\python312\\site-packages (from mesa[viz]) (1.26.4)\n",
      "Requirement already satisfied: pandas in c:\\users\\lenovo\\appdata\\local\\packages\\pythonsoftwarefoundation.python.3.12_qbz5n2kfra8p0\\localcache\\local-packages\\python312\\site-packages (from mesa[viz]) (2.2.3)\n",
      "Requirement already satisfied: tqdm in c:\\users\\lenovo\\appdata\\local\\packages\\pythonsoftwarefoundation.python.3.12_qbz5n2kfra8p0\\localcache\\local-packages\\python312\\site-packages (from mesa[viz]) (4.66.5)\n",
      "Requirement already satisfied: matplotlib in c:\\users\\lenovo\\appdata\\local\\packages\\pythonsoftwarefoundation.python.3.12_qbz5n2kfra8p0\\localcache\\local-packages\\python312\\site-packages (from mesa[viz]) (3.9.2)\n",
      "Collecting solara (from mesa[viz])\n",
      "  Downloading solara-1.41.0-py2.py3-none-any.whl.metadata (8.9 kB)\n",
      "Requirement already satisfied: contourpy>=1.0.1 in c:\\users\\lenovo\\appdata\\local\\packages\\pythonsoftwarefoundation.python.3.12_qbz5n2kfra8p0\\localcache\\local-packages\\python312\\site-packages (from matplotlib->mesa[viz]) (1.3.0)\n",
      "Requirement already satisfied: cycler>=0.10 in c:\\users\\lenovo\\appdata\\local\\packages\\pythonsoftwarefoundation.python.3.12_qbz5n2kfra8p0\\localcache\\local-packages\\python312\\site-packages (from matplotlib->mesa[viz]) (0.12.1)\n",
      "Requirement already satisfied: fonttools>=4.22.0 in c:\\users\\lenovo\\appdata\\local\\packages\\pythonsoftwarefoundation.python.3.12_qbz5n2kfra8p0\\localcache\\local-packages\\python312\\site-packages (from matplotlib->mesa[viz]) (4.54.1)\n",
      "Requirement already satisfied: kiwisolver>=1.3.1 in c:\\users\\lenovo\\appdata\\local\\packages\\pythonsoftwarefoundation.python.3.12_qbz5n2kfra8p0\\localcache\\local-packages\\python312\\site-packages (from matplotlib->mesa[viz]) (1.4.7)\n",
      "Requirement already satisfied: packaging>=20.0 in c:\\users\\lenovo\\appdata\\local\\packages\\pythonsoftwarefoundation.python.3.12_qbz5n2kfra8p0\\localcache\\local-packages\\python312\\site-packages (from matplotlib->mesa[viz]) (24.1)\n",
      "Requirement already satisfied: pillow>=8 in c:\\users\\lenovo\\appdata\\local\\packages\\pythonsoftwarefoundation.python.3.12_qbz5n2kfra8p0\\localcache\\local-packages\\python312\\site-packages (from matplotlib->mesa[viz]) (10.4.0)\n",
      "Requirement already satisfied: pyparsing>=2.3.1 in c:\\users\\lenovo\\appdata\\local\\packages\\pythonsoftwarefoundation.python.3.12_qbz5n2kfra8p0\\localcache\\local-packages\\python312\\site-packages (from matplotlib->mesa[viz]) (3.1.4)\n",
      "Requirement already satisfied: python-dateutil>=2.7 in c:\\users\\lenovo\\appdata\\local\\packages\\pythonsoftwarefoundation.python.3.12_qbz5n2kfra8p0\\localcache\\local-packages\\python312\\site-packages (from matplotlib->mesa[viz]) (2.9.0.post0)\n",
      "Requirement already satisfied: pytz>=2020.1 in c:\\users\\lenovo\\appdata\\local\\packages\\pythonsoftwarefoundation.python.3.12_qbz5n2kfra8p0\\localcache\\local-packages\\python312\\site-packages (from pandas->mesa[viz]) (2024.2)\n",
      "Requirement already satisfied: tzdata>=2022.7 in c:\\users\\lenovo\\appdata\\local\\packages\\pythonsoftwarefoundation.python.3.12_qbz5n2kfra8p0\\localcache\\local-packages\\python312\\site-packages (from pandas->mesa[viz]) (2024.2)\n",
      "Collecting solara-server==1.41.0 (from solara-server[dev,starlette]==1.41.0->solara->mesa[viz])\n",
      "  Downloading solara_server-1.41.0-py2.py3-none-any.whl.metadata (2.8 kB)\n",
      "Collecting solara-ui==1.41.0 (from solara-ui[all]==1.41.0->solara->mesa[viz])\n",
      "  Downloading solara_ui-1.41.0-py2.py3-none-any.whl.metadata (7.3 kB)\n",
      "Collecting click>=7.1.0 (from solara-server==1.41.0->solara-server[dev,starlette]==1.41.0->solara->mesa[viz])\n",
      "  Using cached click-8.1.7-py3-none-any.whl.metadata (3.0 kB)\n",
      "Requirement already satisfied: filelock in c:\\users\\lenovo\\appdata\\local\\packages\\pythonsoftwarefoundation.python.3.12_qbz5n2kfra8p0\\localcache\\local-packages\\python312\\site-packages (from solara-server==1.41.0->solara-server[dev,starlette]==1.41.0->solara->mesa[viz]) (3.16.1)\n",
      "Requirement already satisfied: ipykernel in c:\\users\\lenovo\\appdata\\local\\packages\\pythonsoftwarefoundation.python.3.12_qbz5n2kfra8p0\\localcache\\local-packages\\python312\\site-packages (from solara-server==1.41.0->solara-server[dev,starlette]==1.41.0->solara->mesa[viz]) (6.29.5)\n",
      "Requirement already satisfied: jinja2 in c:\\users\\lenovo\\appdata\\local\\packages\\pythonsoftwarefoundation.python.3.12_qbz5n2kfra8p0\\localcache\\local-packages\\python312\\site-packages (from solara-server==1.41.0->solara-server[dev,starlette]==1.41.0->solara->mesa[viz]) (3.1.4)\n",
      "Requirement already satisfied: jupyter-client in c:\\users\\lenovo\\appdata\\local\\packages\\pythonsoftwarefoundation.python.3.12_qbz5n2kfra8p0\\localcache\\local-packages\\python312\\site-packages (from solara-server==1.41.0->solara-server[dev,starlette]==1.41.0->solara->mesa[viz]) (8.6.3)\n",
      "Collecting nbformat (from solara-server==1.41.0->solara-server[dev,starlette]==1.41.0->solara->mesa[viz])\n",
      "  Downloading nbformat-5.10.4-py3-none-any.whl.metadata (3.6 kB)\n",
      "Collecting rich-click (from solara-server==1.41.0->solara-server[dev,starlette]==1.41.0->solara->mesa[viz])\n",
      "  Downloading rich_click-1.8.4-py3-none-any.whl.metadata (7.9 kB)\n",
      "Collecting watchdog (from solara-server[dev,starlette]==1.41.0->solara->mesa[viz])\n",
      "  Downloading watchdog-6.0.0-py3-none-win_amd64.whl.metadata (44 kB)\n",
      "Collecting watchfiles (from solara-server[dev,starlette]==1.41.0->solara->mesa[viz])\n",
      "  Downloading watchfiles-0.24.0-cp312-none-win_amd64.whl.metadata (5.0 kB)\n",
      "Collecting starlette (from solara-server[dev,starlette]==1.41.0->solara->mesa[viz])\n",
      "  Downloading starlette-0.41.2-py3-none-any.whl.metadata (6.0 kB)\n",
      "Collecting uvicorn (from solara-server[dev,starlette]==1.41.0->solara->mesa[viz])\n",
      "  Downloading uvicorn-0.32.0-py3-none-any.whl.metadata (6.6 kB)\n",
      "Collecting websockets (from solara-server[dev,starlette]==1.41.0->solara->mesa[viz])\n",
      "  Downloading websockets-14.1-cp312-cp312-win_amd64.whl.metadata (6.9 kB)\n",
      "Collecting humanize (from solara-ui==1.41.0->solara-ui[all]==1.41.0->solara->mesa[viz])\n",
      "  Downloading humanize-4.11.0-py3-none-any.whl.metadata (7.8 kB)\n",
      "Collecting ipyvue>=1.9.0 (from solara-ui==1.41.0->solara-ui[all]==1.41.0->solara->mesa[viz])\n",
      "  Downloading ipyvue-3.0.0a4-py2.py3-none-any.whl.metadata (1.1 kB)\n",
      "Collecting ipyvuetify>=1.6.10 (from solara-ui==1.41.0->solara-ui[all]==1.41.0->solara->mesa[viz])\n",
      "  Downloading ipyvuetify-3.0.0a2-py2.py3-none-any.whl.metadata (7.3 kB)\n",
      "Collecting ipywidgets>=7.7 (from solara-ui==1.41.0->solara-ui[all]==1.41.0->solara->mesa[viz])\n",
      "  Downloading ipywidgets-8.1.5-py3-none-any.whl.metadata (2.3 kB)\n",
      "Collecting reacton>=1.7.1 (from solara-ui==1.41.0->solara-ui[all]==1.41.0->solara->mesa[viz])\n",
      "  Downloading reacton-1.8.3-py2.py3-none-any.whl.metadata (2.9 kB)\n",
      "Requirement already satisfied: requests in c:\\users\\lenovo\\appdata\\local\\packages\\pythonsoftwarefoundation.python.3.12_qbz5n2kfra8p0\\localcache\\local-packages\\python312\\site-packages (from solara-ui==1.41.0->solara-ui[all]==1.41.0->solara->mesa[viz]) (2.32.3)\n",
      "Requirement already satisfied: colorama in c:\\users\\lenovo\\appdata\\local\\packages\\pythonsoftwarefoundation.python.3.12_qbz5n2kfra8p0\\localcache\\local-packages\\python312\\site-packages (from tqdm->mesa[viz]) (0.4.6)\n",
      "Requirement already satisfied: six>=1.5 in c:\\users\\lenovo\\appdata\\local\\packages\\pythonsoftwarefoundation.python.3.12_qbz5n2kfra8p0\\localcache\\local-packages\\python312\\site-packages (from python-dateutil>=2.7->matplotlib->mesa[viz]) (1.16.0)\n",
      "Requirement already satisfied: comm>=0.1.3 in c:\\users\\lenovo\\appdata\\local\\packages\\pythonsoftwarefoundation.python.3.12_qbz5n2kfra8p0\\localcache\\local-packages\\python312\\site-packages (from ipywidgets>=7.7->solara-ui==1.41.0->solara-ui[all]==1.41.0->solara->mesa[viz]) (0.2.2)\n",
      "Requirement already satisfied: ipython>=6.1.0 in c:\\users\\lenovo\\appdata\\local\\packages\\pythonsoftwarefoundation.python.3.12_qbz5n2kfra8p0\\localcache\\local-packages\\python312\\site-packages (from ipywidgets>=7.7->solara-ui==1.41.0->solara-ui[all]==1.41.0->solara->mesa[viz]) (8.28.0)\n",
      "Requirement already satisfied: traitlets>=4.3.1 in c:\\users\\lenovo\\appdata\\local\\packages\\pythonsoftwarefoundation.python.3.12_qbz5n2kfra8p0\\localcache\\local-packages\\python312\\site-packages (from ipywidgets>=7.7->solara-ui==1.41.0->solara-ui[all]==1.41.0->solara->mesa[viz]) (5.14.3)\n",
      "Collecting widgetsnbextension~=4.0.12 (from ipywidgets>=7.7->solara-ui==1.41.0->solara-ui[all]==1.41.0->solara->mesa[viz])\n",
      "  Downloading widgetsnbextension-4.0.13-py3-none-any.whl.metadata (1.6 kB)\n",
      "Collecting jupyterlab-widgets~=3.0.12 (from ipywidgets>=7.7->solara-ui==1.41.0->solara-ui[all]==1.41.0->solara->mesa[viz])\n",
      "  Downloading jupyterlab_widgets-3.0.13-py3-none-any.whl.metadata (4.1 kB)\n",
      "Requirement already satisfied: typing-extensions>=4.1.1 in c:\\users\\lenovo\\appdata\\local\\packages\\pythonsoftwarefoundation.python.3.12_qbz5n2kfra8p0\\localcache\\local-packages\\python312\\site-packages (from reacton>=1.7.1->solara-ui==1.41.0->solara-ui[all]==1.41.0->solara->mesa[viz]) (4.12.2)\n",
      "Requirement already satisfied: debugpy>=1.6.5 in c:\\users\\lenovo\\appdata\\local\\packages\\pythonsoftwarefoundation.python.3.12_qbz5n2kfra8p0\\localcache\\local-packages\\python312\\site-packages (from ipykernel->solara-server==1.41.0->solara-server[dev,starlette]==1.41.0->solara->mesa[viz]) (1.8.7)\n",
      "Requirement already satisfied: jupyter-core!=5.0.*,>=4.12 in c:\\users\\lenovo\\appdata\\local\\packages\\pythonsoftwarefoundation.python.3.12_qbz5n2kfra8p0\\localcache\\local-packages\\python312\\site-packages (from ipykernel->solara-server==1.41.0->solara-server[dev,starlette]==1.41.0->solara->mesa[viz]) (5.7.2)\n",
      "Requirement already satisfied: matplotlib-inline>=0.1 in c:\\users\\lenovo\\appdata\\local\\packages\\pythonsoftwarefoundation.python.3.12_qbz5n2kfra8p0\\localcache\\local-packages\\python312\\site-packages (from ipykernel->solara-server==1.41.0->solara-server[dev,starlette]==1.41.0->solara->mesa[viz]) (0.1.7)\n",
      "Requirement already satisfied: nest-asyncio in c:\\users\\lenovo\\appdata\\local\\packages\\pythonsoftwarefoundation.python.3.12_qbz5n2kfra8p0\\localcache\\local-packages\\python312\\site-packages (from ipykernel->solara-server==1.41.0->solara-server[dev,starlette]==1.41.0->solara->mesa[viz]) (1.6.0)\n",
      "Requirement already satisfied: psutil in c:\\users\\lenovo\\appdata\\local\\packages\\pythonsoftwarefoundation.python.3.12_qbz5n2kfra8p0\\localcache\\local-packages\\python312\\site-packages (from ipykernel->solara-server==1.41.0->solara-server[dev,starlette]==1.41.0->solara->mesa[viz]) (6.0.0)\n",
      "Requirement already satisfied: pyzmq>=24 in c:\\users\\lenovo\\appdata\\local\\packages\\pythonsoftwarefoundation.python.3.12_qbz5n2kfra8p0\\localcache\\local-packages\\python312\\site-packages (from ipykernel->solara-server==1.41.0->solara-server[dev,starlette]==1.41.0->solara->mesa[viz]) (26.2.0)\n",
      "Requirement already satisfied: tornado>=6.1 in c:\\users\\lenovo\\appdata\\local\\packages\\pythonsoftwarefoundation.python.3.12_qbz5n2kfra8p0\\localcache\\local-packages\\python312\\site-packages (from ipykernel->solara-server==1.41.0->solara-server[dev,starlette]==1.41.0->solara->mesa[viz]) (6.4.1)\n",
      "Requirement already satisfied: MarkupSafe>=2.0 in c:\\users\\lenovo\\appdata\\local\\packages\\pythonsoftwarefoundation.python.3.12_qbz5n2kfra8p0\\localcache\\local-packages\\python312\\site-packages (from jinja2->solara-server==1.41.0->solara-server[dev,starlette]==1.41.0->solara->mesa[viz]) (2.1.5)\n",
      "Collecting fastjsonschema>=2.15 (from nbformat->solara-server==1.41.0->solara-server[dev,starlette]==1.41.0->solara->mesa[viz])\n",
      "  Downloading fastjsonschema-2.20.0-py3-none-any.whl.metadata (2.1 kB)\n",
      "Collecting jsonschema>=2.6 (from nbformat->solara-server==1.41.0->solara-server[dev,starlette]==1.41.0->solara->mesa[viz])\n",
      "  Downloading jsonschema-4.23.0-py3-none-any.whl.metadata (7.9 kB)\n",
      "Requirement already satisfied: charset-normalizer<4,>=2 in c:\\users\\lenovo\\appdata\\local\\packages\\pythonsoftwarefoundation.python.3.12_qbz5n2kfra8p0\\localcache\\local-packages\\python312\\site-packages (from requests->solara-ui==1.41.0->solara-ui[all]==1.41.0->solara->mesa[viz]) (3.3.2)\n",
      "Requirement already satisfied: idna<4,>=2.5 in c:\\users\\lenovo\\appdata\\local\\packages\\pythonsoftwarefoundation.python.3.12_qbz5n2kfra8p0\\localcache\\local-packages\\python312\\site-packages (from requests->solara-ui==1.41.0->solara-ui[all]==1.41.0->solara->mesa[viz]) (3.10)\n",
      "Requirement already satisfied: urllib3<3,>=1.21.1 in c:\\users\\lenovo\\appdata\\local\\packages\\pythonsoftwarefoundation.python.3.12_qbz5n2kfra8p0\\localcache\\local-packages\\python312\\site-packages (from requests->solara-ui==1.41.0->solara-ui[all]==1.41.0->solara->mesa[viz]) (2.2.3)\n",
      "Requirement already satisfied: certifi>=2017.4.17 in c:\\users\\lenovo\\appdata\\local\\packages\\pythonsoftwarefoundation.python.3.12_qbz5n2kfra8p0\\localcache\\local-packages\\python312\\site-packages (from requests->solara-ui==1.41.0->solara-ui[all]==1.41.0->solara->mesa[viz]) (2024.8.30)\n",
      "Collecting rich>=10.7 (from rich-click->solara-server==1.41.0->solara-server[dev,starlette]==1.41.0->solara->mesa[viz])\n",
      "  Downloading rich-13.9.4-py3-none-any.whl.metadata (18 kB)\n",
      "Collecting cachetools (from solara-ui==1.41.0->solara-ui[all]==1.41.0->solara->mesa[viz])\n",
      "  Downloading cachetools-5.5.0-py3-none-any.whl.metadata (5.3 kB)\n",
      "Collecting markdown (from solara-ui==1.41.0->solara-ui[all]==1.41.0->solara->mesa[viz])\n",
      "  Downloading Markdown-3.7-py3-none-any.whl.metadata (7.0 kB)\n",
      "Requirement already satisfied: pygments in c:\\users\\lenovo\\appdata\\local\\packages\\pythonsoftwarefoundation.python.3.12_qbz5n2kfra8p0\\localcache\\local-packages\\python312\\site-packages (from solara-ui==1.41.0->solara-ui[all]==1.41.0->solara->mesa[viz]) (2.18.0)\n",
      "Collecting pymdown-extensions (from solara-ui==1.41.0->solara-ui[all]==1.41.0->solara->mesa[viz])\n",
      "  Downloading pymdown_extensions-10.12-py3-none-any.whl.metadata (3.0 kB)\n",
      "Collecting anyio<5,>=3.4.0 (from starlette->solara-server[dev,starlette]==1.41.0->solara->mesa[viz])\n",
      "  Downloading anyio-4.6.2.post1-py3-none-any.whl.metadata (4.7 kB)\n",
      "Collecting h11>=0.8 (from uvicorn->solara-server[dev,starlette]==1.41.0->solara->mesa[viz])\n",
      "  Downloading h11-0.14.0-py3-none-any.whl.metadata (8.2 kB)\n",
      "Collecting sniffio>=1.1 (from anyio<5,>=3.4.0->starlette->solara-server[dev,starlette]==1.41.0->solara->mesa[viz])\n",
      "  Downloading sniffio-1.3.1-py3-none-any.whl.metadata (3.9 kB)\n",
      "Requirement already satisfied: decorator in c:\\users\\lenovo\\appdata\\local\\packages\\pythonsoftwarefoundation.python.3.12_qbz5n2kfra8p0\\localcache\\local-packages\\python312\\site-packages (from ipython>=6.1.0->ipywidgets>=7.7->solara-ui==1.41.0->solara-ui[all]==1.41.0->solara->mesa[viz]) (5.1.1)\n",
      "Requirement already satisfied: jedi>=0.16 in c:\\users\\lenovo\\appdata\\local\\packages\\pythonsoftwarefoundation.python.3.12_qbz5n2kfra8p0\\localcache\\local-packages\\python312\\site-packages (from ipython>=6.1.0->ipywidgets>=7.7->solara-ui==1.41.0->solara-ui[all]==1.41.0->solara->mesa[viz]) (0.19.1)\n",
      "Requirement already satisfied: prompt-toolkit<3.1.0,>=3.0.41 in c:\\users\\lenovo\\appdata\\local\\packages\\pythonsoftwarefoundation.python.3.12_qbz5n2kfra8p0\\localcache\\local-packages\\python312\\site-packages (from ipython>=6.1.0->ipywidgets>=7.7->solara-ui==1.41.0->solara-ui[all]==1.41.0->solara->mesa[viz]) (3.0.48)\n",
      "Requirement already satisfied: stack-data in c:\\users\\lenovo\\appdata\\local\\packages\\pythonsoftwarefoundation.python.3.12_qbz5n2kfra8p0\\localcache\\local-packages\\python312\\site-packages (from ipython>=6.1.0->ipywidgets>=7.7->solara-ui==1.41.0->solara-ui[all]==1.41.0->solara->mesa[viz]) (0.6.3)\n",
      "Collecting attrs>=22.2.0 (from jsonschema>=2.6->nbformat->solara-server==1.41.0->solara-server[dev,starlette]==1.41.0->solara->mesa[viz])\n",
      "  Downloading attrs-24.2.0-py3-none-any.whl.metadata (11 kB)\n",
      "Collecting jsonschema-specifications>=2023.03.6 (from jsonschema>=2.6->nbformat->solara-server==1.41.0->solara-server[dev,starlette]==1.41.0->solara->mesa[viz])\n",
      "  Downloading jsonschema_specifications-2024.10.1-py3-none-any.whl.metadata (3.0 kB)\n",
      "Collecting referencing>=0.28.4 (from jsonschema>=2.6->nbformat->solara-server==1.41.0->solara-server[dev,starlette]==1.41.0->solara->mesa[viz])\n",
      "  Downloading referencing-0.35.1-py3-none-any.whl.metadata (2.8 kB)\n",
      "Collecting rpds-py>=0.7.1 (from jsonschema>=2.6->nbformat->solara-server==1.41.0->solara-server[dev,starlette]==1.41.0->solara->mesa[viz])\n",
      "  Downloading rpds_py-0.21.0-cp312-none-win_amd64.whl.metadata (4.2 kB)\n",
      "Requirement already satisfied: platformdirs>=2.5 in c:\\users\\lenovo\\appdata\\local\\packages\\pythonsoftwarefoundation.python.3.12_qbz5n2kfra8p0\\localcache\\local-packages\\python312\\site-packages (from jupyter-core!=5.0.*,>=4.12->ipykernel->solara-server==1.41.0->solara-server[dev,starlette]==1.41.0->solara->mesa[viz]) (4.3.6)\n",
      "Requirement already satisfied: pywin32>=300 in c:\\users\\lenovo\\appdata\\local\\packages\\pythonsoftwarefoundation.python.3.12_qbz5n2kfra8p0\\localcache\\local-packages\\python312\\site-packages (from jupyter-core!=5.0.*,>=4.12->ipykernel->solara-server==1.41.0->solara-server[dev,starlette]==1.41.0->solara->mesa[viz]) (308)\n",
      "Collecting markdown-it-py>=2.2.0 (from rich>=10.7->rich-click->solara-server==1.41.0->solara-server[dev,starlette]==1.41.0->solara->mesa[viz])\n",
      "  Downloading markdown_it_py-3.0.0-py3-none-any.whl.metadata (6.9 kB)\n",
      "Requirement already satisfied: pyyaml in c:\\users\\lenovo\\appdata\\local\\packages\\pythonsoftwarefoundation.python.3.12_qbz5n2kfra8p0\\localcache\\local-packages\\python312\\site-packages (from pymdown-extensions->solara-ui==1.41.0->solara-ui[all]==1.41.0->solara->mesa[viz]) (6.0.2)\n",
      "Requirement already satisfied: parso<0.9.0,>=0.8.3 in c:\\users\\lenovo\\appdata\\local\\packages\\pythonsoftwarefoundation.python.3.12_qbz5n2kfra8p0\\localcache\\local-packages\\python312\\site-packages (from jedi>=0.16->ipython>=6.1.0->ipywidgets>=7.7->solara-ui==1.41.0->solara-ui[all]==1.41.0->solara->mesa[viz]) (0.8.4)\n",
      "Collecting mdurl~=0.1 (from markdown-it-py>=2.2.0->rich>=10.7->rich-click->solara-server==1.41.0->solara-server[dev,starlette]==1.41.0->solara->mesa[viz])\n",
      "  Downloading mdurl-0.1.2-py3-none-any.whl.metadata (1.6 kB)\n",
      "Requirement already satisfied: wcwidth in c:\\users\\lenovo\\appdata\\local\\packages\\pythonsoftwarefoundation.python.3.12_qbz5n2kfra8p0\\localcache\\local-packages\\python312\\site-packages (from prompt-toolkit<3.1.0,>=3.0.41->ipython>=6.1.0->ipywidgets>=7.7->solara-ui==1.41.0->solara-ui[all]==1.41.0->solara->mesa[viz]) (0.2.13)\n",
      "Requirement already satisfied: executing>=1.2.0 in c:\\users\\lenovo\\appdata\\local\\packages\\pythonsoftwarefoundation.python.3.12_qbz5n2kfra8p0\\localcache\\local-packages\\python312\\site-packages (from stack-data->ipython>=6.1.0->ipywidgets>=7.7->solara-ui==1.41.0->solara-ui[all]==1.41.0->solara->mesa[viz]) (2.1.0)\n",
      "Requirement already satisfied: asttokens>=2.1.0 in c:\\users\\lenovo\\appdata\\local\\packages\\pythonsoftwarefoundation.python.3.12_qbz5n2kfra8p0\\localcache\\local-packages\\python312\\site-packages (from stack-data->ipython>=6.1.0->ipywidgets>=7.7->solara-ui==1.41.0->solara-ui[all]==1.41.0->solara->mesa[viz]) (2.4.1)\n",
      "Requirement already satisfied: pure-eval in c:\\users\\lenovo\\appdata\\local\\packages\\pythonsoftwarefoundation.python.3.12_qbz5n2kfra8p0\\localcache\\local-packages\\python312\\site-packages (from stack-data->ipython>=6.1.0->ipywidgets>=7.7->solara-ui==1.41.0->solara-ui[all]==1.41.0->solara->mesa[viz]) (0.2.3)\n",
      "Downloading solara-1.41.0-py2.py3-none-any.whl (5.7 kB)\n",
      "Downloading solara_server-1.41.0-py2.py3-none-any.whl (3.9 kB)\n",
      "Downloading solara_ui-1.41.0-py2.py3-none-any.whl (1.3 MB)\n",
      "   ---------------------------------------- 0.0/1.3 MB ? eta -:--:--\n",
      "   ------------------------ --------------- 0.8/1.3 MB 6.7 MB/s eta 0:00:01\n",
      "   ---------------------------------------- 1.3/1.3 MB 5.9 MB/s eta 0:00:00\n",
      "Using cached click-8.1.7-py3-none-any.whl (97 kB)\n",
      "Downloading ipyvue-3.0.0a4-py2.py3-none-any.whl (9.6 MB)\n",
      "   ---------------------------------------- 0.0/9.6 MB ? eta -:--:--\n",
      "   ----- ---------------------------------- 1.3/9.6 MB 8.4 MB/s eta 0:00:01\n",
      "   ------------ --------------------------- 2.9/9.6 MB 7.3 MB/s eta 0:00:01\n",
      "   ----------------- ---------------------- 4.2/9.6 MB 7.0 MB/s eta 0:00:01\n",
      "   --------------------- ------------------ 5.2/9.6 MB 6.9 MB/s eta 0:00:01\n",
      "   --------------------- ------------------ 5.2/9.6 MB 6.9 MB/s eta 0:00:01\n",
      "   ----------------------------- ---------- 7.1/9.6 MB 5.7 MB/s eta 0:00:01\n",
      "   ---------------------------------- ----- 8.4/9.6 MB 5.8 MB/s eta 0:00:01\n",
      "   ---------------------------------------- 9.6/9.6 MB 5.7 MB/s eta 0:00:00\n",
      "Downloading ipyvuetify-3.0.0a2-py2.py3-none-any.whl (15.7 MB)\n",
      "   ---------------------------------------- 0.0/15.7 MB ? eta -:--:--\n",
      "   ---------------------------------------- 0.0/15.7 MB ? eta -:--:--\n",
      "   -- ------------------------------------- 0.8/15.7 MB 11.2 MB/s eta 0:00:02\n",
      "   ------ --------------------------------- 2.4/15.7 MB 8.4 MB/s eta 0:00:02\n",
      "   ------- -------------------------------- 2.9/15.7 MB 8.4 MB/s eta 0:00:02\n",
      "   ------------- -------------------------- 5.2/15.7 MB 7.4 MB/s eta 0:00:02\n",
      "   ------------- -------------------------- 5.2/15.7 MB 7.4 MB/s eta 0:00:02\n",
      "   ---------------- ----------------------- 6.6/15.7 MB 5.8 MB/s eta 0:00:02\n",
      "   ----------------- ---------------------- 6.8/15.7 MB 5.3 MB/s eta 0:00:02\n",
      "   ----------------- ---------------------- 6.8/15.7 MB 5.3 MB/s eta 0:00:02\n",
      "   ------------------ --------------------- 7.1/15.7 MB 4.4 MB/s eta 0:00:02\n",
      "   ------------------- -------------------- 7.6/15.7 MB 3.9 MB/s eta 0:00:03\n",
      "   --------------------- ------------------ 8.4/15.7 MB 3.7 MB/s eta 0:00:02\n",
      "   ------------------------ --------------- 9.7/15.7 MB 3.9 MB/s eta 0:00:02\n",
      "   ---------------------------- ----------- 11.0/15.7 MB 4.1 MB/s eta 0:00:02\n",
      "   ---------------------------- ----------- 11.3/15.7 MB 4.2 MB/s eta 0:00:02\n",
      "   ---------------------------- ----------- 11.3/15.7 MB 4.2 MB/s eta 0:00:02\n",
      "   -------------------------------- ------- 12.8/15.7 MB 3.9 MB/s eta 0:00:01\n",
      "   ------------------------------------ --- 14.4/15.7 MB 4.0 MB/s eta 0:00:01\n",
      "   -------------------------------------- - 15.2/15.7 MB 4.1 MB/s eta 0:00:01\n",
      "   -------------------------------------- - 15.2/15.7 MB 4.1 MB/s eta 0:00:01\n",
      "   -------------------------------------- - 15.2/15.7 MB 4.1 MB/s eta 0:00:01\n",
      "   ---------------------------------------- 15.7/15.7 MB 3.6 MB/s eta 0:00:00\n",
      "Downloading ipywidgets-8.1.5-py3-none-any.whl (139 kB)\n",
      "Downloading reacton-1.8.3-py2.py3-none-any.whl (107 kB)\n",
      "Downloading humanize-4.11.0-py3-none-any.whl (128 kB)\n",
      "Downloading nbformat-5.10.4-py3-none-any.whl (78 kB)\n",
      "Downloading rich_click-1.8.4-py3-none-any.whl (35 kB)\n",
      "Downloading starlette-0.41.2-py3-none-any.whl (73 kB)\n",
      "Downloading uvicorn-0.32.0-py3-none-any.whl (63 kB)\n",
      "Downloading watchdog-6.0.0-py3-none-win_amd64.whl (79 kB)\n",
      "Downloading watchfiles-0.24.0-cp312-none-win_amd64.whl (277 kB)\n",
      "Downloading websockets-14.1-cp312-cp312-win_amd64.whl (163 kB)\n",
      "Downloading anyio-4.6.2.post1-py3-none-any.whl (90 kB)\n",
      "Downloading fastjsonschema-2.20.0-py3-none-any.whl (23 kB)\n",
      "Downloading h11-0.14.0-py3-none-any.whl (58 kB)\n",
      "Downloading jsonschema-4.23.0-py3-none-any.whl (88 kB)\n",
      "Downloading jupyterlab_widgets-3.0.13-py3-none-any.whl (214 kB)\n",
      "Downloading rich-13.9.4-py3-none-any.whl (242 kB)\n",
      "Downloading widgetsnbextension-4.0.13-py3-none-any.whl (2.3 MB)\n",
      "   ---------------------------------------- 0.0/2.3 MB ? eta -:--:--\n",
      "   ----------------- ---------------------- 1.0/2.3 MB 6.3 MB/s eta 0:00:01\n",
      "   -------------------------- ------------- 1.6/2.3 MB 3.4 MB/s eta 0:00:01\n",
      "   ---------------------------------------- 2.3/2.3 MB 4.1 MB/s eta 0:00:00\n",
      "Downloading cachetools-5.5.0-py3-none-any.whl (9.5 kB)\n",
      "Downloading Markdown-3.7-py3-none-any.whl (106 kB)\n",
      "Downloading pymdown_extensions-10.12-py3-none-any.whl (263 kB)\n",
      "Downloading attrs-24.2.0-py3-none-any.whl (63 kB)\n",
      "Downloading jsonschema_specifications-2024.10.1-py3-none-any.whl (18 kB)\n",
      "Downloading markdown_it_py-3.0.0-py3-none-any.whl (87 kB)\n",
      "Downloading referencing-0.35.1-py3-none-any.whl (26 kB)\n",
      "Downloading rpds_py-0.21.0-cp312-none-win_amd64.whl (220 kB)\n",
      "Downloading sniffio-1.3.1-py3-none-any.whl (10 kB)\n",
      "Downloading mdurl-0.1.2-py3-none-any.whl (10.0 kB)\n",
      "Installing collected packages: fastjsonschema, widgetsnbextension, websockets, watchdog, sniffio, rpds-py, mdurl, markdown, jupyterlab-widgets, humanize, h11, click, cachetools, attrs, uvicorn, referencing, pymdown-extensions, markdown-it-py, anyio, watchfiles, starlette, rich, jsonschema-specifications, rich-click, jsonschema, ipywidgets, reacton, nbformat, ipyvue, ipyvuetify, solara-ui, solara-server, solara\n",
      "Successfully installed anyio-4.6.2.post1 attrs-24.2.0 cachetools-5.5.0 click-8.1.7 fastjsonschema-2.20.0 h11-0.14.0 humanize-4.11.0 ipyvue-3.0.0a4 ipyvuetify-3.0.0a2 ipywidgets-8.1.5 jsonschema-4.23.0 jsonschema-specifications-2024.10.1 jupyterlab-widgets-3.0.13 markdown-3.7 markdown-it-py-3.0.0 mdurl-0.1.2 nbformat-5.10.4 pymdown-extensions-10.12 reacton-1.8.3 referencing-0.35.1 rich-13.9.4 rich-click-1.8.4 rpds-py-0.21.0 sniffio-1.3.1 solara-1.41.0 solara-server-1.41.0 solara-ui-1.41.0 starlette-0.41.2 uvicorn-0.32.0 watchdog-6.0.0 watchfiles-0.24.0 websockets-14.1 widgetsnbextension-4.0.13\n"
     ]
    }
   ],
   "source": [
    "pip install --pre mesa[viz]"
   ]
  },
  {
   "cell_type": "markdown",
   "metadata": {},
   "source": [
    "Resource Classes"
   ]
  },
  {
   "cell_type": "code",
   "execution_count": null,
   "metadata": {},
   "outputs": [
    {
     "ename": "",
     "evalue": "",
     "output_type": "error",
     "traceback": [
      "\u001b[1;31mThe Kernel crashed while executing code in the current cell or a previous cell. \n",
      "\u001b[1;31mPlease review the code in the cell(s) to identify a possible cause of the failure. \n",
      "\u001b[1;31mClick <a href='https://aka.ms/vscodeJupyterKernelCrash'>here</a> for more info. \n",
      "\u001b[1;31mView Jupyter <a href='command:jupyter.viewOutput'>log</a> for further details."
     ]
    }
   ],
   "source": [
    "class Sugar(mesa.Agent):\n",
    "  \"\"\"\n",
    "  Sugar: \n",
    "  - contains an amount of sugar\n",
    "  - grows 1 amount of sugar at each turn \n",
    "  \"\"\"\n",
    "\n",
    "  def __init__(self): \n",
    "    print(\"I am Sugar\")"
   ]
  },
  {
   "cell_type": "code",
   "execution_count": null,
   "metadata": {},
   "outputs": [],
   "source": [
    "class Spice(mesa.Agent):\n",
    "  \"\"\"\n",
    "  Spice: \n",
    "  - contains an amount of spice\n",
    "  - grows 1 amount of spice at each turn\n",
    "  \"\"\"\n",
    "\n",
    "  def __init__(self):\n",
    "    print(\"I am Spice\")"
   ]
  },
  {
   "cell_type": "code",
   "execution_count": null,
   "metadata": {},
   "outputs": [],
   "source": [
    "class Trader(mesa.Agent): \n",
    "  \"\"\"\n",
    "  Trader: \n",
    "  - has a metabolism of sugar and spice\n",
    "  - harvest and trade sugar and spice to survive\n",
    "  \"\"\"\n",
    "\n",
    "\n",
    "  def __init__(self):\n",
    "    print(\"I am Trader\")"
   ]
  },
  {
   "cell_type": "markdown",
   "metadata": {},
   "source": []
  },
  {
   "cell_type": "code",
   "execution_count": null,
   "metadata": {},
   "outputs": [],
   "source": []
  }
 ],
 "metadata": {
  "kernelspec": {
   "display_name": "Python 3",
   "language": "python",
   "name": "python3"
  },
  "language_info": {
   "codemirror_mode": {
    "name": "ipython",
    "version": 3
   },
   "file_extension": ".py",
   "mimetype": "text/x-python",
   "name": "python",
   "nbconvert_exporter": "python",
   "pygments_lexer": "ipython3",
   "version": "3.12.7"
  }
 },
 "nbformat": 4,
 "nbformat_minor": 2
}
