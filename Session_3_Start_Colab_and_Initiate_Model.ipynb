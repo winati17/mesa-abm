{
 "cells": [
  {
   "cell_type": "markdown",
   "metadata": {
    "colab_type": "text",
    "id": "view-in-github"
   },
   "source": [
    "<a href=\"https://colab.research.google.com/github/SFIComplexityExplorer/Mesa-ABM-Tutorial/blob/main/Session_3_Start_Colab_and_Initiate_Model.ipynb\" target=\"_parent\"><img src=\"https://colab.research.google.com/assets/colab-badge.svg\" alt=\"Open In Colab\"/></a>"
   ]
  },
  {
   "cell_type": "markdown",
   "metadata": {},
   "source": [
    "Winati Mutmainnah (D121221014)"
   ]
  },
  {
   "cell_type": "markdown",
   "metadata": {
    "id": "XAnII-29m3r2"
   },
   "source": [
    "# Import Dependencies"
   ]
  },
  {
   "cell_type": "code",
   "execution_count": 1,
   "metadata": {
    "colab": {
     "base_uri": "https://localhost:8080/"
    },
    "id": "cCa7pEqXdY82",
    "outputId": "be57fead-256d-48fc-d878-bd3ee8d3bff2"
   },
   "outputs": [
    {
     "name": "stdout",
     "output_type": "stream",
     "text": [
      "Defaulting to user installation because normal site-packages is not writeable\n",
      "Requirement already satisfied: mesa in c:\\users\\lenovo\\appdata\\local\\packages\\pythonsoftwarefoundation.python.3.12_qbz5n2kfra8p0\\localcache\\local-packages\\python312\\site-packages (3.0.3)\n",
      "Requirement already satisfied: numpy in c:\\users\\lenovo\\appdata\\local\\packages\\pythonsoftwarefoundation.python.3.12_qbz5n2kfra8p0\\localcache\\local-packages\\python312\\site-packages (from mesa) (1.26.4)\n",
      "Requirement already satisfied: pandas in c:\\users\\lenovo\\appdata\\local\\packages\\pythonsoftwarefoundation.python.3.12_qbz5n2kfra8p0\\localcache\\local-packages\\python312\\site-packages (from mesa) (2.2.3)\n",
      "Requirement already satisfied: tqdm in c:\\users\\lenovo\\appdata\\local\\packages\\pythonsoftwarefoundation.python.3.12_qbz5n2kfra8p0\\localcache\\local-packages\\python312\\site-packages (from mesa) (4.66.5)\n",
      "Requirement already satisfied: python-dateutil>=2.8.2 in c:\\users\\lenovo\\appdata\\local\\packages\\pythonsoftwarefoundation.python.3.12_qbz5n2kfra8p0\\localcache\\local-packages\\python312\\site-packages (from pandas->mesa) (2.9.0.post0)\n",
      "Requirement already satisfied: pytz>=2020.1 in c:\\users\\lenovo\\appdata\\local\\packages\\pythonsoftwarefoundation.python.3.12_qbz5n2kfra8p0\\localcache\\local-packages\\python312\\site-packages (from pandas->mesa) (2024.2)\n",
      "Requirement already satisfied: tzdata>=2022.7 in c:\\users\\lenovo\\appdata\\local\\packages\\pythonsoftwarefoundation.python.3.12_qbz5n2kfra8p0\\localcache\\local-packages\\python312\\site-packages (from pandas->mesa) (2024.2)\n",
      "Requirement already satisfied: colorama in c:\\users\\lenovo\\appdata\\local\\packages\\pythonsoftwarefoundation.python.3.12_qbz5n2kfra8p0\\localcache\\local-packages\\python312\\site-packages (from tqdm->mesa) (0.4.6)\n",
      "Requirement already satisfied: six>=1.5 in c:\\users\\lenovo\\appdata\\local\\packages\\pythonsoftwarefoundation.python.3.12_qbz5n2kfra8p0\\localcache\\local-packages\\python312\\site-packages (from python-dateutil>=2.8.2->pandas->mesa) (1.16.0)\n"
     ]
    },
    {
     "name": "stderr",
     "output_type": "stream",
     "text": [
      "\n",
      "[notice] A new release of pip is available: 24.2 -> 24.3.1\n",
      "[notice] To update, run: C:\\Users\\lenovo\\AppData\\Local\\Microsoft\\WindowsApps\\PythonSoftwareFoundation.Python.3.12_qbz5n2kfra8p0\\python.exe -m pip install --upgrade pip\n"
     ]
    }
   ],
   "source": [
    "!pip install mesa"
   ]
  },
  {
   "cell_type": "code",
   "execution_count": 2,
   "metadata": {
    "id": "ikSl2Mz0m252"
   },
   "outputs": [],
   "source": [
    "import mesa"
   ]
  },
  {
   "cell_type": "markdown",
   "metadata": {
    "id": "BkX5GqjSnAu0"
   },
   "source": [
    "# Resource Classes"
   ]
  },
  {
   "cell_type": "code",
   "execution_count": 3,
   "metadata": {
    "id": "o1EOk5KMnC55"
   },
   "outputs": [],
   "source": [
    "class Sugar(mesa.Agent):\n",
    "  \"\"\"\n",
    "  Sugar: \n",
    "  - contains an amount of sugar\n",
    "  - grows 1 amount of sugar at each turn \n",
    "  \"\"\"\n",
    "\n",
    "  def __init__(self): \n",
    "    print(\"I am Sugar\")"
   ]
  },
  {
   "cell_type": "code",
   "execution_count": 4,
   "metadata": {
    "id": "-oJ35Mx7nXmK"
   },
   "outputs": [],
   "source": [
    "class Spice(mesa.Agent):\n",
    "  \"\"\"\n",
    "  Spice: \n",
    "  - contains an amount of spice\n",
    "  - grows 1 amount of spice at each turn\n",
    "  \"\"\"\n",
    "\n",
    "  def __init__(self):\n",
    "    print(\"I am Spice\")\n",
    "  "
   ]
  },
  {
   "cell_type": "markdown",
   "metadata": {
    "id": "XYcwNrHqnrPt"
   },
   "source": [
    "# Trader Agent"
   ]
  },
  {
   "cell_type": "code",
   "execution_count": 5,
   "metadata": {
    "id": "t51BNfwUnt53"
   },
   "outputs": [],
   "source": [
    "class Trader(mesa.Agent): \n",
    "  \"\"\"\n",
    "  Trader: \n",
    "  - has a metabolism of sugar and spice\n",
    "  - harvest and trade sugar and spice to survive\n",
    "  \"\"\"\n",
    "\n",
    "\n",
    "  def __init__(self):\n",
    "    print(\"I am Trader\")\n",
    " \n"
   ]
  },
  {
   "cell_type": "markdown",
   "metadata": {
    "id": "SRrU2ABBoF0i"
   },
   "source": [
    "# Model Class"
   ]
  },
  {
   "cell_type": "code",
   "execution_count": 6,
   "metadata": {
    "id": "7DTonjahn2BT"
   },
   "outputs": [],
   "source": [
    "class SugarscapeG1mt(mesa.Model):\n",
    "  \"\"\"\n",
    "  Manager class to run Sugarscape with Traders\n",
    "  \"\"\"\n",
    "  \n",
    "  \n",
    "  def __init__(self, width=50,height=50):\n",
    "    self.spice = Spice()\n",
    "    self.sugar = Sugar()\n",
    "    self.trader = Trader()\n"
   ]
  },
  {
   "cell_type": "markdown",
   "metadata": {
    "id": "_KHKfeD9oiYo"
   },
   "source": [
    "# Run Sugarscape"
   ]
  },
  {
   "cell_type": "code",
   "execution_count": 7,
   "metadata": {
    "colab": {
     "base_uri": "https://localhost:8080/"
    },
    "id": "at455urSol7b",
    "outputId": "bb247582-2d50-4630-fe0d-9787453768b3"
   },
   "outputs": [
    {
     "name": "stdout",
     "output_type": "stream",
     "text": [
      "I am Spice\n",
      "I am Sugar\n",
      "I am Trader\n"
     ]
    }
   ],
   "source": [
    "model = SugarscapeG1mt()"
   ]
  }
 ],
 "metadata": {
  "colab": {
   "include_colab_link": true,
   "provenance": []
  },
  "kernelspec": {
   "display_name": "Python 3",
   "language": "python",
   "name": "python3"
  },
  "language_info": {
   "codemirror_mode": {
    "name": "ipython",
    "version": 3
   },
   "file_extension": ".py",
   "mimetype": "text/x-python",
   "name": "python",
   "nbconvert_exporter": "python",
   "pygments_lexer": "ipython3",
   "version": "3.12.7"
  }
 },
 "nbformat": 4,
 "nbformat_minor": 0
}
