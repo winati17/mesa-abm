{
 "cells": [
  {
   "cell_type": "markdown",
   "metadata": {
    "colab_type": "text",
    "id": "view-in-github"
   },
   "source": [
    "<a href=\"https://colab.research.google.com/github/SFIComplexityExplorer/Mesa-ABM-Tutorial/blob/main/Session_11_Traders_Move_part_3.ipynb\" target=\"_parent\"><img src=\"https://colab.research.google.com/assets/colab-badge.svg\" alt=\"Open In Colab\"/></a>"
   ]
  },
  {
   "cell_type": "markdown",
   "metadata": {},
   "source": [
    "Winati Mutmainnah (D121221014)"
   ]
  },
  {
   "cell_type": "markdown",
   "metadata": {
    "id": "XAnII-29m3r2"
   },
   "source": [
    "# Import Dependencies"
   ]
  },
  {
   "cell_type": "code",
   "execution_count": null,
   "metadata": {
    "id": "ikSl2Mz0m252"
   },
   "outputs": [],
   "source": [
    "from google.colab import drive\n",
    "drive.mount('/content/drive')\n",
    "\n",
    "\n",
    "try:\n",
    "  import mesa\n",
    "except:\n",
    "  !pip install mesa --quiet\n",
    "import mesa\n",
    "import numpy as np\n",
    "import math\n",
    "import matplotlib.pyplot as plt\n",
    "\n",
    "%matplotlib inline"
   ]
  },
  {
   "cell_type": "markdown",
   "metadata": {
    "id": "BkX5GqjSnAu0"
   },
   "source": [
    "# Resource Classes"
   ]
  },
  {
   "cell_type": "code",
   "execution_count": null,
   "metadata": {
    "id": "o1EOk5KMnC55"
   },
   "outputs": [],
   "source": [
    "class Sugar(mesa.Agent):\n",
    "  \"\"\"\n",
    "  Sugar:\n",
    "  - contains an amount of sugar\n",
    "  - grows 1 amount of sugar at each turn\n",
    "  \"\"\"\n",
    "\n",
    "  def __init__(self, unique_id, model, pos, max_sugar):\n",
    "    super().__init__(unique_id, model)\n",
    "    self.pos = pos\n",
    "    self.amount = max_sugar\n",
    "    self.max_sugar = max_sugar\n",
    "\n",
    "\n",
    "  def step(self):\n",
    "    '''\n",
    "    Sugar growth function, adds one unit of sugar each step until\n",
    "    max amount\n",
    "    '''\n",
    "    self.amount = min([self.max_sugar, self.amount+1])"
   ]
  },
  {
   "cell_type": "code",
   "execution_count": null,
   "metadata": {
    "id": "-oJ35Mx7nXmK"
   },
   "outputs": [],
   "source": [
    "class Spice(mesa.Agent):\n",
    "  \"\"\"\n",
    "  Spice:\n",
    "  - contains an amount of spice\n",
    "  - grows 1 amount of spice at each turn\n",
    "  \"\"\"\n",
    "\n",
    "  def __init__(self, unique_id, model, pos, max_spice):\n",
    "    super().__init__(unique_id, model)\n",
    "    self.pos = pos\n",
    "    self.amount = max_spice\n",
    "    self.max_spice = max_spice\n",
    "\n",
    "  def step(self):\n",
    "    '''\n",
    "    Spice growth function, adds one unit of spice each step until\n",
    "    max amout\n",
    "    '''\n",
    "    self.amount = min([self.max_spice, self.amount+1])"
   ]
  },
  {
   "cell_type": "markdown",
   "metadata": {
    "id": "XYcwNrHqnrPt"
   },
   "source": [
    "# Trader Agent"
   ]
  },
  {
   "cell_type": "code",
   "execution_count": null,
   "metadata": {
    "id": "t51BNfwUnt53"
   },
   "outputs": [],
   "source": [
    "class Trader(mesa.Agent):\n",
    "  \"\"\"\n",
    "  Trader:\n",
    "  - has a metabolism of sugar and spice\n",
    "  - harvest and trade sugar and spice to survive\n",
    "  \"\"\"\n",
    "\n",
    "\n",
    "  def __init__(self, unique_id, model, pos, moore=False, sugar=0,\n",
    "               spice=0, metabolism_sugar=0, metabolism_spice=0,\n",
    "               vision=0):\n",
    "    super().__init__(unique_id, model)\n",
    "    self.pos = pos\n",
    "    self.moore = moore\n",
    "    self.sugar = sugar\n",
    "    self.spice = spice\n",
    "    self.metabolism_sugar = metabolism_sugar\n",
    "    self.metabolism_spice = metabolism_spice\n",
    "    self.vision = vision\n",
    "\n",
    "\n",
    "  def get_sugar(self, pos):\n",
    "    '''\n",
    "    used in self.get_sugar_amount()\n",
    "    '''\n",
    "\n",
    "    this_cell = self.model.grid.get_cell_list_contents(pos)\n",
    "    for agent in this_cell:\n",
    "      if type(agent) is Sugar:\n",
    "        return agent\n",
    "    return None\n",
    "\n",
    "\n",
    "  def get_sugar_amount(self,pos):\n",
    "    '''\n",
    "    used in self.move() as part of self.calculate_welfare()\n",
    "    '''\n",
    "\n",
    "    sugar_patch = self.get_sugar(pos)\n",
    "    if sugar_patch:\n",
    "      print(\"Sugar \", sugar_patch.amount)\n",
    "      return sugar_patch.amount\n",
    "    return 0\n",
    "\n",
    "  def get_spice(self, pos):\n",
    "    '''\n",
    "    used in self.get_spice_amount()\n",
    "    '''\n",
    "\n",
    "    this_cell = self.model.grid.get_cell_list_contents(pos)\n",
    "    for agent in this_cell:\n",
    "      if type(agent) is Spice:\n",
    "        return agent\n",
    "    return None\n",
    "\n",
    "  def get_spice_amount(self, pos):\n",
    "    '''\n",
    "    used in self.move() as part of self.calculate_welfare()\n",
    "    '''\n",
    "\n",
    "    spice_patch = self.get_spice(pos)\n",
    "    if spice_patch:\n",
    "      print(\"Spice \", spice_patch)\n",
    "      return spice_patch.amount\n",
    "    return 0\n",
    "\n",
    "\n",
    "  def is_occupied_by_other(self,pos):\n",
    "    '''\n",
    "    helper function part 1 of self.move()\n",
    "    '''\n",
    "\n",
    "    if pos == self.pos:\n",
    "      # agent's position is considered unoccupied as agent can stay there\n",
    "      return False\n",
    "    # get contents of each cell in neighborhood\n",
    "    this_cell = self.model.grid.get_cell_list_contents(pos)\n",
    "    for a in this_cell:\n",
    "      # see if occupied by another agent\n",
    "      if isinstance(a, Trader):\n",
    "        return True\n",
    "    return False\n",
    "\n",
    "  def calculate_welfare(self, sugar, spice):\n",
    "    '''\n",
    "    helper function part 2 self.move()\n",
    "    '''\n",
    "\n",
    "    # calculate total resources\n",
    "    m_total = self.metabolism_sugar + self.metabolism_spice\n",
    "    # Cobb-Douglas functional form\n",
    "    return sugar**(self.metabolism_sugar/m_total) * spice**(\n",
    "        self.metabolism_spice/m_total)\n",
    "\n",
    "\n",
    "  ######################################################################\n",
    "  #                                                                    #\n",
    "  #                      MAIN TRADE FUNCTIONS                          #\n",
    "  #                                                                    #\n",
    "  ######################################################################\n",
    "\n",
    "\n",
    "  def move(self):\n",
    "    '''\n",
    "    Function for trader agent to identify optimal move for each step in 4 parts\n",
    "    1 - identify all possible moves\n",
    "    2 - determine which move maximizes welfare\n",
    "    3 - find closest best option\n",
    "    4 - move\n",
    "    '''\n",
    "\n",
    "    # 1. identify all possible moves\n",
    "\n",
    "    neighbors = [i\n",
    "                 for i in self.model.grid.get_neighborhood(\n",
    "                   self.pos, self.moore, True, self.vision\n",
    "                 ) if not self.is_occupied_by_other(i)]\n",
    "\n",
    "    # 2. determine which move maximizes welfare\n",
    "\n",
    "    welfares = [\n",
    "        self.calculate_welfare(\n",
    "            self.sugar + self.get_sugar_amount(pos),\n",
    "            self.spice + self.get_spice_amount(pos))\n",
    "        for pos in neighbors\n",
    "    ]\n",
    "\n",
    "    #print(welfares)\n",
    "\n"
   ]
  },
  {
   "cell_type": "markdown",
   "metadata": {
    "id": "SRrU2ABBoF0i"
   },
   "source": [
    "# Model Class"
   ]
  },
  {
   "cell_type": "code",
   "execution_count": null,
   "metadata": {
    "id": "7DTonjahn2BT"
   },
   "outputs": [],
   "source": [
    "class SugarscapeG1mt(mesa.Model):\n",
    "  \"\"\"\n",
    "  Manager class to run Sugarscape with Traders\n",
    "  \"\"\"\n",
    "\n",
    "\n",
    "  def __init__(self, width=50,height=50, initial_population=200,\n",
    "               endowment_min=25, endowment_max=50, metabolism_min=1,\n",
    "               metabolism_max=5, vision_min=1, vision_max=5):\n",
    "\n",
    "    #Initiate width and heigh of sugarscape\n",
    "    self.width = width\n",
    "    self.height = height\n",
    "    #Initiate population attributes\n",
    "    self.initial_population = initial_population\n",
    "    self.endowment_min = endowment_min\n",
    "    self.endowment_max = endowment_max\n",
    "    self.metabolism_min = metabolism_min\n",
    "    self.metabolism_max = metabolism_max\n",
    "    self.vision_min = vision_min\n",
    "    self.vision_max = vision_max\n",
    "\n",
    "    #initiate activation schedule\n",
    "    self.schedule = mesa.time.RandomActivationByType(self)\n",
    "    #initiate mesa grid class\n",
    "    self.grid = mesa.space.MultiGrid(self.width, self.height, torus=False)\n",
    "\n",
    "    #read in landscape file from supplmentary material\n",
    "    sugar_distribution =np.genfromtxt(\"/content/drive/MyDrive/sugar-map.txt\")\n",
    "    spice_distribution = np.flip(sugar_distribution, 1)\n",
    "\n",
    "    agent_id = 0\n",
    "    for _,(x,y) in self.grid.coord_iter():\n",
    "      max_sugar = sugar_distribution[x,y]\n",
    "      if max_sugar > 0:\n",
    "        sugar = Sugar(agent_id, self, (x,y), max_sugar)\n",
    "        self.schedule.add(sugar)\n",
    "        self.grid.place_agent(sugar, (x,y))\n",
    "        agent_id += 1\n",
    "\n",
    "      max_spice = spice_distribution[x,y]\n",
    "      if max_spice > 0:\n",
    "        spice = Spice(agent_id, self, (x,y), max_spice)\n",
    "        self.schedule.add(spice)\n",
    "        self.grid.place_agent(spice, (x,y))\n",
    "        agent_id += 1\n",
    "\n",
    "    for i in range(self.initial_population):\n",
    "      #get agent position\n",
    "      x = self.random.randrange(self.width)\n",
    "      y = self.random.randrange(self.height)\n",
    "      #see Growing Artificial Societies p. 108 for initialization\n",
    "      #give agents initial endowment\n",
    "      sugar = int(self.random.uniform(self.endowment_min, self.endowment_max+1))\n",
    "      spice = int(self.random.uniform(self.endowment_min, self.endowment_max+1))\n",
    "      #give agents initial metabolism\n",
    "      metabolism_sugar = int(self.random.uniform(self.metabolism_min, self.metabolism_max+1))\n",
    "      metabolism_spice = int(self.random.uniform(self.metabolism_min, self.metabolism_max+1))\n",
    "      #give agents vision\n",
    "      vision = int(self.random.uniform(self.vision_min, self.vision_max+1))\n",
    "      #create Trader object\n",
    "      trader = Trader(agent_id,\n",
    "                      self,\n",
    "                      (x,y),\n",
    "                      moore = False,\n",
    "                      sugar = sugar,\n",
    "                      spice = spice,\n",
    "                      metabolism_sugar = metabolism_sugar,\n",
    "                      metabolism_spice = metabolism_spice,\n",
    "                      vision = vision)\n",
    "      #place agent\n",
    "      self.grid.place_agent(trader, (x,y))\n",
    "      self.schedule.add(trader)\n",
    "      agent_id += 1\n",
    "\n",
    "  def step(self):\n",
    "    '''\n",
    "    Unique step function that does staged activation of sugar and spice\n",
    "    and then randomly activates traders\n",
    "    '''\n",
    "    # step Sugar agents\n",
    "    for sugar in self.schedule.agents_by_type[Sugar].values():\n",
    "      sugar.step()\n",
    "\n",
    "    # step Spice agents\n",
    "    for spice in self.schedule.agents_by_type[Spice].values():\n",
    "      spice.step()\n",
    "\n",
    "    # step trader agents\n",
    "    # to account for agent death and removal we need a seperate data strcuture to\n",
    "    # iterate\n",
    "    trader_shuffle = list(self.schedule.agents_by_type[Trader].values())\n",
    "    self.random.shuffle(trader_shuffle)\n",
    "\n",
    "    for agent in trader_shuffle:\n",
    "      agent.move()\n",
    "\n",
    "    self.schedule.steps += 1 #important for data collector to track number of steps\n",
    "\n",
    "  def run_model(self, step_count=1000):\n",
    "\n",
    "    for i in range(step_count):\n",
    "      self.step()"
   ]
  },
  {
   "cell_type": "markdown",
   "metadata": {
    "id": "_KHKfeD9oiYo"
   },
   "source": [
    "# Run Sugarscape"
   ]
  },
  {
   "cell_type": "code",
   "execution_count": null,
   "metadata": {
    "id": "at455urSol7b"
   },
   "outputs": [],
   "source": [
    "model = SugarscapeG1mt()\n",
    "model.run_model(step_count=1)\n"
   ]
  }
 ],
 "metadata": {
  "colab": {
   "collapsed_sections": [
    "XAnII-29m3r2",
    "BkX5GqjSnAu0"
   ],
   "include_colab_link": true,
   "provenance": []
  },
  "kernelspec": {
   "display_name": "Python 3",
   "language": "python",
   "name": "python3"
  },
  "language_info": {
   "codemirror_mode": {
    "name": "ipython",
    "version": 3
   },
   "file_extension": ".py",
   "mimetype": "text/x-python",
   "name": "python",
   "nbconvert_exporter": "python",
   "pygments_lexer": "ipython3",
   "version": "3.9.6"
  }
 },
 "nbformat": 4,
 "nbformat_minor": 0
}
