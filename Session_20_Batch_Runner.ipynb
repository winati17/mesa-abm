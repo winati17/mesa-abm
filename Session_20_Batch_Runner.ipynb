{
 "cells": [
  {
   "cell_type": "markdown",
   "metadata": {
    "colab_type": "text",
    "id": "view-in-github"
   },
   "source": [
    "<a href=\"https://colab.research.google.com/github/SFIComplexityExplorer/Mesa-ABM-Tutorial/blob/main/Session_20_Batch_Runner.ipynb\" target=\"_parent\"><img src=\"https://colab.research.google.com/assets/colab-badge.svg\" alt=\"Open In Colab\"/></a>"
   ]
  },
  {
   "cell_type": "markdown",
   "metadata": {},
   "source": [
    "Winati Mutmainnah (D121221014)"
   ]
  },
  {
   "cell_type": "markdown",
   "metadata": {
    "id": "XAnII-29m3r2"
   },
   "source": [
    "# Import Dependencies"
   ]
  },
  {
   "cell_type": "code",
   "execution_count": null,
   "metadata": {
    "colab": {
     "base_uri": "https://localhost:8080/"
    },
    "id": "ikSl2Mz0m252",
    "outputId": "34029c10-bb11-4014-ae94-d66fa44d57be"
   },
   "outputs": [],
   "source": [
    "from google.colab import drive\n",
    "drive.mount('/content/drive')\n",
    "\n",
    "\n",
    "try:\n",
    "  import mesa\n",
    "except:\n",
    "  !pip install mesa --quiet\n",
    "import mesa\n",
    "import numpy as np\n",
    "import math\n",
    "import matplotlib.pyplot as plt\n",
    "import networkx as nx\n",
    "\n",
    "%matplotlib inline"
   ]
  },
  {
   "cell_type": "markdown",
   "metadata": {
    "id": "wp0VWkylOKr9"
   },
   "source": [
    "# Helper Functions"
   ]
  },
  {
   "cell_type": "code",
   "execution_count": null,
   "metadata": {
    "id": "kg-JVcwzON_b"
   },
   "outputs": [],
   "source": [
    "def get_distance(pos_1, pos_2):\n",
    "  '''\n",
    "  Calculate the Euclidean distance between two positions\n",
    "\n",
    "  used in trade.move()\n",
    "  '''\n",
    "\n",
    "  x1, y1 = pos_1\n",
    "  x2, y2 = pos_2\n",
    "  dx = x1 - x2\n",
    "  dy = y1 - y2\n",
    "  return math.sqrt(dx**2 + dy**2)\n",
    "\n",
    "def flatten(list_of_lists):\n",
    "  '''\n",
    "  helper function for model datacollector for trade price\n",
    "  collapses agent price list into one list\n",
    "  '''\n",
    "  return [item for sublist in list_of_lists for item in sublist]\n",
    "\n",
    "def geometric_mean(list_of_prices):\n",
    "  '''\n",
    "  find the geometric mean of a list of prices\n",
    "  '''\n",
    "  return np.exp(np.log(list_of_prices).mean())\n",
    "\n",
    "def get_trade(agent):\n",
    "  '''\n",
    "  For agent reportes in data collector\n",
    "\n",
    "  return list of trade partners and None for other agents\n",
    "  '''\n",
    "  if type(agent) == Trader:\n",
    "    return agent.trade_partners\n",
    "  else: return None"
   ]
  },
  {
   "cell_type": "markdown",
   "metadata": {
    "id": "BkX5GqjSnAu0"
   },
   "source": [
    "# Resource Classes"
   ]
  },
  {
   "cell_type": "code",
   "execution_count": null,
   "metadata": {
    "id": "o1EOk5KMnC55"
   },
   "outputs": [],
   "source": [
    "class Sugar(mesa.Agent):\n",
    "  \"\"\"\n",
    "  Sugar:\n",
    "  - contains an amount of sugar\n",
    "  - grows 1 amount of sugar at each turn\n",
    "  \"\"\"\n",
    "\n",
    "  def __init__(self, unique_id, model, pos, max_sugar):\n",
    "    super().__init__(unique_id, model)\n",
    "    self.pos = pos\n",
    "    self.amount = max_sugar\n",
    "    self.max_sugar = max_sugar\n",
    "\n",
    "\n",
    "  def step(self):\n",
    "    '''\n",
    "    Sugar growth function, adds one unit of sugar each step until\n",
    "    max amount\n",
    "    '''\n",
    "    self.amount = min([self.max_sugar, self.amount+1])"
   ]
  },
  {
   "cell_type": "code",
   "execution_count": null,
   "metadata": {
    "id": "-oJ35Mx7nXmK"
   },
   "outputs": [],
   "source": [
    "class Spice(mesa.Agent):\n",
    "  \"\"\"\n",
    "  Spice:\n",
    "  - contains an amount of spice\n",
    "  - grows 1 amount of spice at each turn\n",
    "  \"\"\"\n",
    "\n",
    "  def __init__(self, unique_id, model, pos, max_spice):\n",
    "    super().__init__(unique_id, model)\n",
    "    self.pos = pos\n",
    "    self.amount = max_spice\n",
    "    self.max_spice = max_spice\n",
    "\n",
    "  def step(self):\n",
    "    '''\n",
    "    Spice growth function, adds one unit of spice each step until\n",
    "    max amout\n",
    "    '''\n",
    "    self.amount = min([self.max_spice, self.amount+1])"
   ]
  },
  {
   "cell_type": "markdown",
   "metadata": {
    "id": "XYcwNrHqnrPt"
   },
   "source": [
    "# Trader Agent"
   ]
  },
  {
   "cell_type": "code",
   "execution_count": null,
   "metadata": {
    "id": "t51BNfwUnt53"
   },
   "outputs": [],
   "source": [
    "class Trader(mesa.Agent):\n",
    "  \"\"\"\n",
    "  Trader:\n",
    "  - has a metabolism of sugar and spice\n",
    "  - harvest and trade sugar and spice to survive\n",
    "  \"\"\"\n",
    "\n",
    "\n",
    "  def __init__(self, unique_id, model, pos, moore=False, sugar=0,\n",
    "               spice=0, metabolism_sugar=0, metabolism_spice=0,\n",
    "               vision=0):\n",
    "    super().__init__(unique_id, model)\n",
    "    self.pos = pos\n",
    "    self.moore = moore\n",
    "    self.sugar = sugar\n",
    "    self.spice = spice\n",
    "    self.metabolism_sugar = metabolism_sugar\n",
    "    self.metabolism_spice = metabolism_spice\n",
    "    self.vision = vision\n",
    "    self.prices = []\n",
    "    self.trade_partners = []\n",
    "\n",
    "\n",
    "  def get_sugar(self, pos):\n",
    "    '''\n",
    "    used in self.get_sugar_amount()\n",
    "    '''\n",
    "\n",
    "    this_cell = self.model.grid.get_cell_list_contents(pos)\n",
    "    for agent in this_cell:\n",
    "      if type(agent) is Sugar:\n",
    "        return agent\n",
    "    return None\n",
    "\n",
    "\n",
    "  def get_sugar_amount(self,pos):\n",
    "    '''\n",
    "    used in self.move() as part of self.calculate_welfare()\n",
    "    '''\n",
    "\n",
    "    sugar_patch = self.get_sugar(pos)\n",
    "    if sugar_patch:\n",
    "      return sugar_patch.amount\n",
    "    return 0\n",
    "\n",
    "  def get_spice(self, pos):\n",
    "    '''\n",
    "    used in self.get_spice_amount()\n",
    "    '''\n",
    "\n",
    "    this_cell = self.model.grid.get_cell_list_contents(pos)\n",
    "    for agent in this_cell:\n",
    "      if type(agent) is Spice:\n",
    "        return agent\n",
    "    return None\n",
    "\n",
    "  def get_spice_amount(self, pos):\n",
    "    '''\n",
    "    used in self.move() as part of self.calculate_welfare()\n",
    "    '''\n",
    "\n",
    "    spice_patch = self.get_spice(pos)\n",
    "    if spice_patch:\n",
    "      return spice_patch.amount\n",
    "    return 0\n",
    "\n",
    "  def get_trader(self, pos):\n",
    "      '''\n",
    "      helper function used in self.trade_with_neighbors()\n",
    "      '''\n",
    "\n",
    "      this_cell = self.model.grid.get_cell_list_contents(pos)\n",
    "\n",
    "      for agent in this_cell:\n",
    "        if isinstance(agent, Trader):\n",
    "          return agent\n",
    "\n",
    "\n",
    "  def is_occupied_by_other(self,pos):\n",
    "    '''\n",
    "    helper function part 1 of self.move()\n",
    "    '''\n",
    "\n",
    "    if pos == self.pos:\n",
    "      # agent's position is considered unoccupied as agent can stay there\n",
    "      return False\n",
    "    # get contents of each cell in neighborhood\n",
    "    this_cell = self.model.grid.get_cell_list_contents(pos)\n",
    "    for a in this_cell:\n",
    "      # see if occupied by another agent\n",
    "      if isinstance(a, Trader):\n",
    "        return True\n",
    "    return False\n",
    "\n",
    "  def calculate_welfare(self, sugar, spice):\n",
    "    '''\n",
    "    helper function\n",
    "\n",
    "    part 2 self.move()\n",
    "    self.trade()\n",
    "    '''\n",
    "\n",
    "    # calculate total resources\n",
    "    m_total = self.metabolism_sugar + self.metabolism_spice\n",
    "    # Cobb-Douglas functional form; starting on p. 97 on Growing Artificial Societies\n",
    "    return sugar**(self.metabolism_sugar/m_total) * spice**(\n",
    "        self.metabolism_spice/m_total)\n",
    "\n",
    "\n",
    "  def is_starved(self):\n",
    "    '''\n",
    "    Helper function for self.maybe_die()\n",
    "    '''\n",
    "\n",
    "    return (self.sugar <= 0) or (self.spice <= 0)\n",
    "\n",
    "  def calculate_MRS(self, sugar, spice):\n",
    "    '''\n",
    "    Helper function for\n",
    "    - self.trade()\n",
    "    - self.maybe_sell_spice()\n",
    "\n",
    "    Determines what trader agent is needs and can give up\n",
    "    '''\n",
    "\n",
    "    return (spice/self.metabolism_spice) / (sugar/self.metabolism_sugar)\n",
    "\n",
    "  def calculate_sell_spice_amount(self, price):\n",
    "    '''\n",
    "    helper function for self.maybe_sell_spice() which is called from\n",
    "    self.trade()\n",
    "    '''\n",
    "\n",
    "    if price >= 1:\n",
    "      sugar = 1\n",
    "      spice = int(price)\n",
    "    else:\n",
    "      sugar = int(1/price)\n",
    "      spice = 1\n",
    "    return sugar, spice\n",
    "\n",
    "  def sell_spice(self, other, sugar, spice):\n",
    "    '''\n",
    "    used in self.maybe_sell_spice()\n",
    "\n",
    "    exchanges sugar and spice between traders\n",
    "    '''\n",
    "\n",
    "    self.sugar += sugar\n",
    "    other.sugar -= sugar\n",
    "    self.spice -= spice\n",
    "    other.spice += spice\n",
    "\n",
    "\n",
    "  def maybe_sell_spice(self, other, price, welfare_self, welfare_other):\n",
    "    '''\n",
    "    helper function for self.trade()\n",
    "    '''\n",
    "\n",
    "    sugar_exchanged, spice_exchanged = self.calculate_sell_spice_amount(price)\n",
    "\n",
    "    # Assess new sugar and spice amount - what if change did occur\n",
    "    self_sugar = self.sugar + sugar_exchanged\n",
    "    other_sugar = other.sugar - sugar_exchanged\n",
    "    self_spice = self.spice - spice_exchanged\n",
    "    other_spice = other.spice + spice_exchanged\n",
    "\n",
    "    # double check to ensure agents have resources\n",
    "\n",
    "    if ((self_sugar <= 0) or\n",
    "        (other_sugar <=0) or\n",
    "        (self_spice <= 0) or\n",
    "        (other_spice <= 0)):\n",
    "      return False\n",
    "\n",
    "    # trade criteria #1 - are both agents better off?\n",
    "    both_agents_better_off = (\n",
    "        (welfare_self < self.calculate_welfare(self_sugar, self_spice)) and\n",
    "        (welfare_other < other.calculate_welfare(other_sugar, other_spice)))\n",
    "\n",
    "    # trade criteria #2 is their mrs crossing\n",
    "    mrs_not_crossing = self.calculate_MRS(\n",
    "        self_sugar, self_spice\n",
    "    ) > other.calculate_MRS(other_sugar, other_spice)\n",
    "\n",
    "    if not (both_agents_better_off and mrs_not_crossing):\n",
    "      return False\n",
    "\n",
    "    # criteria met, execute trade\n",
    "    self.sell_spice(other, sugar_exchanged, spice_exchanged)\n",
    "\n",
    "    return True\n",
    "\n",
    "\n",
    "  def trade(self, other):\n",
    "    '''\n",
    "    helper function used in trade_with_neighbors()\n",
    "\n",
    "    other is a trader agent object\n",
    "    '''\n",
    "\n",
    "    # sanity check to verify code is working as expected\n",
    "    assert self.sugar > 0\n",
    "    assert self.spice > 0\n",
    "    assert other.sugar > 0\n",
    "    assert other.spice > 0\n",
    "\n",
    "    # calculate marginal rate of subsitution in Growing Artificial Socieites p. 101\n",
    "    mrs_self = self.calculate_MRS(self.sugar, self.spice)\n",
    "    mrs_other = other.calculate_MRS(other.sugar, other.spice)\n",
    "\n",
    "    #calculate each agents welfare\n",
    "    welfare_self = self.calculate_welfare(self.sugar, self.spice)\n",
    "    welfare_other = other.calculate_welfare(other.sugar, other.spice)\n",
    "\n",
    "    if math.isclose(mrs_self, mrs_other):\n",
    "      return\n",
    "\n",
    "    # calcualte price\n",
    "    price = math.sqrt(mrs_self*mrs_other)\n",
    "\n",
    "    if mrs_self > mrs_other:\n",
    "      # self is a sugar buyer, spice seller\n",
    "      sold = self.maybe_sell_spice(other, price, welfare_self, welfare_other)\n",
    "      # no trade - criteria not met\n",
    "      if not sold:\n",
    "        return\n",
    "    else:\n",
    "      # self is a spice buyer, sugar seller\n",
    "      sold = other.maybe_sell_spice(self, price, welfare_other, welfare_self)\n",
    "      # no trade - criteria not met\n",
    "      if not sold:\n",
    "        return\n",
    "\n",
    "    # Capture data\n",
    "    self.prices.append(price)\n",
    "    self.trade_partners.append(other.unique_id)\n",
    "\n",
    "    # continue trading\n",
    "    self.trade(other)\n",
    "\n",
    "  ######################################################################\n",
    "  #                                                                    #\n",
    "  #                      MAIN TRADE FUNCTIONS                          #\n",
    "  #                                                                    #\n",
    "  ######################################################################\n",
    "\n",
    "\n",
    "  def move(self):\n",
    "    '''\n",
    "    Function for trader agent to identify optimal move for each step in 4 parts\n",
    "    1 - identify all possible moves\n",
    "    2 - determine which move maximizes welfare\n",
    "    3 - find closest best option\n",
    "    4 - move\n",
    "    '''\n",
    "\n",
    "    # 1. identify all possible moves\n",
    "\n",
    "    neighbors = [i\n",
    "                 for i in self.model.grid.get_neighborhood(\n",
    "                   self.pos, self.moore, True, self.vision\n",
    "                 ) if not self.is_occupied_by_other(i)]\n",
    "\n",
    "    # 2. determine which move maximizes welfare\n",
    "\n",
    "    welfares = [\n",
    "        self.calculate_welfare(\n",
    "            self.sugar + self.get_sugar_amount(pos),\n",
    "            self.spice + self.get_spice_amount(pos))\n",
    "        for pos in neighbors\n",
    "    ]\n",
    "\n",
    "    # 3. Find closest best option\n",
    "\n",
    "    # find the highest welfare in welfares\n",
    "    max_welfare = max(welfares)\n",
    "    # get the index of max welfare cells\n",
    "    candidate_indices = [i for i in range(len(welfares))\n",
    "                        if math.isclose(welfares[i], max_welfare)]\n",
    "\n",
    "    # convert index to positions of those cells\n",
    "    candidates = [neighbors[i] for i in candidate_indices]\n",
    "\n",
    "    min_dist = min(get_distance(self.pos, pos) for pos in candidates)\n",
    "\n",
    "    final_candidates = [ pos for pos in candidates\n",
    "                       if math.isclose(get_distance(self.pos, pos), min_dist, rel_tol=1e-02\n",
    "                                       )]\n",
    "    self.random.shuffle(final_candidates)\n",
    "\n",
    "    # 4. Move Agent\n",
    "    self.model.grid.move_agent(self, final_candidates[0])\n",
    "\n",
    "  def eat(self):\n",
    "    # get sugar\n",
    "    sugar_patch = self.get_sugar(self.pos)\n",
    "\n",
    "    if sugar_patch:\n",
    "        self.sugar += sugar_patch.amount\n",
    "        sugar_patch.amount = 0\n",
    "    self.sugar -= self.metabolism_sugar\n",
    "\n",
    "    # get_spice\n",
    "    spice_patch = self.get_spice(self.pos)\n",
    "\n",
    "    if spice_patch:\n",
    "        self.spice += spice_patch.amount\n",
    "        spice_patch.amount = 0\n",
    "    self.spice -= self.metabolism_spice\n",
    "\n",
    "  def maybe_die(self):\n",
    "    '''\n",
    "    Function to remove Traders who have consumed all their sugar or spice\n",
    "    '''\n",
    "\n",
    "    if self.is_starved():\n",
    "      self.model.grid.remove_agent(self)\n",
    "      self.model.schedule.remove(self)\n",
    "\n",
    "  def trade_with_neighbors(self):\n",
    "    '''\n",
    "    Function for trader agents to decide who to trade with in three parts\n",
    "\n",
    "    1- identify neighbors who can trade\n",
    "    2- trade (2 sessions)\n",
    "    3- collect data\n",
    "    '''\n",
    "\n",
    "    neighbor_agents = [self.get_trader(pos) for pos in self.model.grid.get_neighborhood(\n",
    "        self.pos, self.moore, False, self.vision) if self.is_occupied_by_other(pos)\n",
    "    ]\n",
    "\n",
    "    if len(neighbor_agents) == 0:\n",
    "      return\n",
    "\n",
    "\n",
    "    # iterate through traders in neighboring cells and trade\n",
    "    for a in neighbor_agents:\n",
    "      if a:\n",
    "        self.trade(a)\n",
    "\n",
    "    return"
   ]
  },
  {
   "cell_type": "markdown",
   "metadata": {
    "id": "SRrU2ABBoF0i"
   },
   "source": [
    "# Model Class"
   ]
  },
  {
   "cell_type": "code",
   "execution_count": null,
   "metadata": {
    "id": "7DTonjahn2BT"
   },
   "outputs": [],
   "source": [
    "class SugarscapeG1mt(mesa.Model):\n",
    "  \"\"\"\n",
    "  Manager class to run Sugarscape with Traders\n",
    "  \"\"\"\n",
    "\n",
    "\n",
    "  def __init__(self, width=50,height=50, initial_population=200,\n",
    "               endowment_min=25, endowment_max=50, metabolism_min=1,\n",
    "               metabolism_max=5, vision_min=1, vision_max=5):\n",
    "\n",
    "    #Initiate width and heigh of sugarscape\n",
    "    self.width = width\n",
    "    self.height = height\n",
    "    #Initiate population attributes\n",
    "    self.initial_population = initial_population\n",
    "    self.endowment_min = endowment_min\n",
    "    self.endowment_max = endowment_max\n",
    "    self.metabolism_min = metabolism_min\n",
    "    self.metabolism_max = metabolism_max\n",
    "    self.vision_min = vision_min\n",
    "    self.vision_max = vision_max\n",
    "    self.running = True\n",
    "\n",
    "    # initiate activation schedule\n",
    "    self.schedule = mesa.time.RandomActivationByType(self)\n",
    "    # initiate mesa grid class\n",
    "    self.grid = mesa.space.MultiGrid(self.width, self.height, torus=False)\n",
    "    # initiate datacollector\n",
    "    self.datacollector = mesa.DataCollector(\n",
    "        model_reporters = {\"Trader\": lambda m: m.schedule.get_type_count(Trader),\n",
    "         \"Trade Volume\": lambda m: sum(len(a.trade_partners)\n",
    "         for a in m.schedule.agents_by_type[Trader].values()),\n",
    "         \"Price\": lambda m: geometric_mean(flatten([a.prices for a in m.schedule.agents_by_type[Trader].values()]))},\n",
    "       agent_reporters = {\"Trade Network\": lambda a: get_trade(a)}\n",
    "    )\n",
    "\n",
    "\n",
    "    #read in landscape file from supplmentary material\n",
    "    sugar_distribution =np.genfromtxt(\"/content/drive/MyDrive/sugar-map.txt\")\n",
    "    spice_distribution = np.flip(sugar_distribution, 1)\n",
    "\n",
    "    agent_id = 0\n",
    "    for _,(x,y) in self.grid.coord_iter():\n",
    "      max_sugar = sugar_distribution[x,y]\n",
    "      if max_sugar > 0:\n",
    "        sugar = Sugar(agent_id, self, (x,y), max_sugar)\n",
    "        self.schedule.add(sugar)\n",
    "        self.grid.place_agent(sugar, (x,y))\n",
    "        agent_id += 1\n",
    "\n",
    "      max_spice = spice_distribution[x,y]\n",
    "      if max_spice > 0:\n",
    "        spice = Spice(agent_id, self, (x,y), max_spice)\n",
    "        self.schedule.add(spice)\n",
    "        self.grid.place_agent(spice, (x,y))\n",
    "        agent_id += 1\n",
    "\n",
    "    for i in range(self.initial_population):\n",
    "      #get agent position\n",
    "      x = self.random.randrange(self.width)\n",
    "      y = self.random.randrange(self.height)\n",
    "      #see Growing Artificial Societies p. 108 for initialization\n",
    "      #give agents initial endowment\n",
    "      sugar = int(self.random.uniform(self.endowment_min, self.endowment_max+1))\n",
    "      spice = int(self.random.uniform(self.endowment_min, self.endowment_max+1))\n",
    "      #give agents initial metabolism\n",
    "      metabolism_sugar = int(self.random.uniform(self.metabolism_min, self.metabolism_max+1))\n",
    "      metabolism_spice = int(self.random.uniform(self.metabolism_min, self.metabolism_max+1))\n",
    "      #give agents vision\n",
    "      vision = int(self.random.uniform(self.vision_min, self.vision_max+1))\n",
    "      #create Trader object\n",
    "      trader = Trader(agent_id,\n",
    "                      self,\n",
    "                      (x,y),\n",
    "                      moore = False,\n",
    "                      sugar = sugar,\n",
    "                      spice = spice,\n",
    "                      metabolism_sugar = metabolism_sugar,\n",
    "                      metabolism_spice = metabolism_spice,\n",
    "                      vision = vision)\n",
    "      #place agent\n",
    "      self.grid.place_agent(trader, (x,y))\n",
    "      self.schedule.add(trader)\n",
    "      agent_id += 1\n",
    "\n",
    "  def randomize_traders(self):\n",
    "    '''\n",
    "    helper function for self.step()\n",
    "\n",
    "    puts traders in randomized list for step function\n",
    "    '''\n",
    "\n",
    "    trader_shuffle = list(self.schedule.agents_by_type[Trader].values())\n",
    "    self.random.shuffle(trader_shuffle)\n",
    "\n",
    "    return trader_shuffle\n",
    "\n",
    "\n",
    "  def step(self):\n",
    "    '''\n",
    "    Unique step function that does staged activation of sugar and spice\n",
    "    and then randomly activates traders\n",
    "    '''\n",
    "    # step Sugar agents\n",
    "    for sugar in self.schedule.agents_by_type[Sugar].values():\n",
    "      sugar.step()\n",
    "\n",
    "    # step Spice agents\n",
    "    for spice in self.schedule.agents_by_type[Spice].values():\n",
    "      spice.step()\n",
    "\n",
    "    # step trader agents\n",
    "    # to account for agent death and removal we need a seperate data strcuture to\n",
    "    # iterate\n",
    "    trader_shuffle = self.randomize_traders()\n",
    "\n",
    "    for agent in trader_shuffle:\n",
    "      agent.prices = []\n",
    "      agent.trade_partners = []\n",
    "      agent.move()\n",
    "      agent.eat()\n",
    "      agent.maybe_die()\n",
    "\n",
    "    trader_shuffle = self.randomize_traders()\n",
    "\n",
    "    for agent in trader_shuffle:\n",
    "      agent.trade_with_neighbors()\n",
    "\n",
    "    self.schedule.steps += 1 #important for data collector to track number of steps\n",
    "\n",
    "    # collect model level data\n",
    "    self.datacollector.collect(self)\n",
    "\n",
    "    #Need to remove excess data, as Mesa does not yet have a datacollection\n",
    "    #by agent type feature we will for into datacollector to update its data\n",
    "    #structures\n",
    "    agent_trades = self.datacollector._agent_records[self.schedule.steps]\n",
    "    #leverage None aspect of no data in data collector\n",
    "    agent_trades = [agent for agent in agent_trades if agent[2] is not None]\n",
    "    #reassign that step in the dictionary with lean trade data\n",
    "    self.datacollector._agent_records[self.schedule.steps] = agent_trades\n",
    "\n",
    "  def run_model(self, step_count=1000):\n",
    "\n",
    "    for i in range(step_count):\n",
    "      self.step()"
   ]
  },
  {
   "cell_type": "markdown",
   "metadata": {
    "id": "_KHKfeD9oiYo"
   },
   "source": [
    "# Run Sugarscape"
   ]
  },
  {
   "cell_type": "code",
   "execution_count": null,
   "metadata": {
    "colab": {
     "base_uri": "https://localhost:8080/"
    },
    "id": "at455urSol7b",
    "outputId": "b392101e-7899-4c23-d68a-2705fafa5a67"
   },
   "outputs": [],
   "source": [
    "model = SugarscapeG1mt()\n",
    "model.run_model()\n"
   ]
  },
  {
   "cell_type": "markdown",
   "metadata": {
    "id": "XQ7ykQMWoRyU"
   },
   "source": [
    "# Analyze Data"
   ]
  },
  {
   "cell_type": "code",
   "execution_count": null,
   "metadata": {
    "colab": {
     "base_uri": "https://localhost:8080/",
     "height": 423
    },
    "id": "vemquyVptT3Z",
    "outputId": "44e52ae2-95c1-494d-ec3f-3458c6710f72"
   },
   "outputs": [],
   "source": [
    "results = model.datacollector.get_model_vars_dataframe()\n",
    "\n",
    "results"
   ]
  },
  {
   "cell_type": "code",
   "execution_count": null,
   "metadata": {
    "colab": {
     "base_uri": "https://localhost:8080/",
     "height": 455
    },
    "id": "U5rdEkll3v9o",
    "outputId": "58b97c3b-2904-4750-f1e2-47ca525c15ee"
   },
   "outputs": [],
   "source": [
    "# retrieve agent level results\n",
    "agent_results = model.datacollector.get_agent_vars_dataframe()\n",
    "# filter out Nones from non-trader agents\n",
    "agent_results"
   ]
  },
  {
   "cell_type": "code",
   "execution_count": null,
   "metadata": {
    "colab": {
     "base_uri": "https://localhost:8080/",
     "height": 447
    },
    "id": "lr0rYpIpovMg",
    "outputId": "41f094b0-59b0-4324-9ce3-8ace802b6591"
   },
   "outputs": [],
   "source": [
    "# plot number of agents per time step\n",
    "results.plot(y = \"Trader\", use_index=True)"
   ]
  },
  {
   "cell_type": "code",
   "execution_count": null,
   "metadata": {
    "colab": {
     "base_uri": "https://localhost:8080/",
     "height": 447
    },
    "id": "MIAxl_Oqo7M4",
    "outputId": "ff2424cb-4938-4799-e2d4-99298798783e"
   },
   "outputs": [],
   "source": [
    "# plot trade price per step\n",
    "\n",
    "y = list(results[\"Price\"])\n",
    "x = range(1000)\n",
    "\n",
    "plt.scatter(x,y, s=1)"
   ]
  },
  {
   "cell_type": "code",
   "execution_count": null,
   "metadata": {
    "colab": {
     "base_uri": "https://localhost:8080/",
     "height": 430
    },
    "id": "fJL9UPatpgOO",
    "outputId": "a5a8320e-6d28-4561-c11d-6b2db9fb22e3"
   },
   "outputs": [],
   "source": [
    "# Plot trade volume improved\n",
    "\n",
    "for i in range(1000):\n",
    "  plt.vlines(i,0,results[\"Trade Volume\"][i])"
   ]
  },
  {
   "cell_type": "code",
   "execution_count": null,
   "metadata": {
    "id": "ql0x0DcEqMVF"
   },
   "outputs": [],
   "source": [
    "#  create graph object\n",
    "G = nx.Graph()\n",
    "\n",
    "# add agent keys to make initial node set\n",
    "G.add_nodes_from(list(model.schedule.agents_by_type[Trader].keys()))\n",
    "\n",
    "# create edge list\n",
    "for idx, row in agent_results.iterrows():\n",
    "  if len(row[\"Trade Network\"]) > 0:\n",
    "    for agent in row[\"Trade Network\"]:\n",
    "      G.add_edge(idx[1], agent)\n",
    "\n"
   ]
  },
  {
   "cell_type": "code",
   "execution_count": null,
   "metadata": {
    "colab": {
     "base_uri": "https://localhost:8080/"
    },
    "id": "-OZb4MUb40jO",
    "outputId": "5c624f98-150c-4802-b3b3-67f25c0fdab7"
   },
   "outputs": [],
   "source": [
    "print(\"Connectivity: \", nx.node_connectivity(G), \"Clustering: \",\n",
    "      nx.average_clustering(G), \"Efficiency: \", nx.global_efficiency(G))\n",
    "\n",
    "try:\n",
    "  print(\"Diameter: \", nx.diameter(G))\n",
    "except:\n",
    "  print(\"Some traders not connected\")\n"
   ]
  },
  {
   "cell_type": "code",
   "execution_count": null,
   "metadata": {
    "colab": {
     "base_uri": "https://localhost:8080/",
     "height": 482
    },
    "id": "s5pJwG705mMA",
    "outputId": "bc362231-0c43-48ad-9446-8ce67cea6df2"
   },
   "outputs": [],
   "source": [
    "degree = [d for n,d in G.degree()]\n",
    "plt.hist(degree)"
   ]
  },
  {
   "cell_type": "code",
   "execution_count": null,
   "metadata": {
    "colab": {
     "base_uri": "https://localhost:8080/",
     "height": 516
    },
    "id": "xLwzO1WP55vS",
    "outputId": "55ae76b1-5ff4-4c73-a040-76ee9e09b046"
   },
   "outputs": [],
   "source": [
    "nx.draw(G)"
   ]
  },
  {
   "cell_type": "markdown",
   "metadata": {
    "id": "azz_uiGGakvw"
   },
   "source": [
    "# Batch Run and Analysis"
   ]
  },
  {
   "cell_type": "code",
   "execution_count": null,
   "metadata": {
    "colab": {
     "base_uri": "https://localhost:8080/"
    },
    "id": "diPBWOafao4R",
    "outputId": "49fa7ca0-218e-4d74-8435-96b4a3c773ae"
   },
   "outputs": [],
   "source": [
    "params = { \"width\": 50, \"height\": 50,\n",
    "          \"vision_min\": range(1,3),\n",
    "          \"metabolism_max\": [3,5]}\n",
    "\n",
    "results_batch = mesa.batch_run(\n",
    "    SugarscapeG1mt,\n",
    "    parameters = params,\n",
    "    iterations = 1,\n",
    "    number_processes = 1,\n",
    "    data_collection_period = 1,\n",
    "    display_progress = True\n",
    ")"
   ]
  },
  {
   "cell_type": "code",
   "execution_count": null,
   "metadata": {
    "colab": {
     "base_uri": "https://localhost:8080/",
     "height": 467
    },
    "id": "b_6hoS8HcyAO",
    "outputId": "7af87e8d-9d11-47e8-d6a1-443cc3aabf7a"
   },
   "outputs": [],
   "source": [
    "import pandas as pd\n",
    "\n",
    "results_df = pd.DataFrame(results_batch)\n",
    "results_df"
   ]
  },
  {
   "cell_type": "code",
   "execution_count": null,
   "metadata": {
    "colab": {
     "base_uri": "https://localhost:8080/",
     "height": 447
    },
    "id": "YYjtaWEEc7_9",
    "outputId": "ecc62e63-d9cb-4ca6-b380-d7ba4a5cb978"
   },
   "outputs": [],
   "source": [
    "plt.scatter(results_df[\"Step\"], results_df[\"Price\"], s=0.75)"
   ]
  },
  {
   "cell_type": "code",
   "execution_count": null,
   "metadata": {
    "colab": {
     "base_uri": "https://localhost:8080/",
     "height": 467
    },
    "id": "wjLv_D84dWqL",
    "outputId": "24f943a0-6baa-4a3b-8d25-082a7363058a"
   },
   "outputs": [],
   "source": [
    "results_explore = results_df[results_df[\"metabolism_max\"]== 3]\n",
    "results_explore"
   ]
  },
  {
   "cell_type": "code",
   "execution_count": null,
   "metadata": {
    "colab": {
     "base_uri": "https://localhost:8080/",
     "height": 447
    },
    "id": "eDGVWE5mdqEq",
    "outputId": "8fb76092-af4f-463b-9f70-7fadf973e866"
   },
   "outputs": [],
   "source": [
    "plt.scatter(results_explore[\"Step\"], results_explore[\"Price\"], s=0.75)"
   ]
  },
  {
   "cell_type": "code",
   "execution_count": null,
   "metadata": {
    "colab": {
     "base_uri": "https://localhost:8080/",
     "height": 430
    },
    "id": "YsdGJ9LEd2gz",
    "outputId": "79717caf-0463-4c60-c433-17de948f5fec"
   },
   "outputs": [],
   "source": [
    "for i in range(4):\n",
    "  results_explore = results_df[results_df[\"RunId\"] ==i]\n",
    "  plt.plot(results_explore[\"Step\"], results_explore[\"Trader\"])"
   ]
  },
  {
   "cell_type": "code",
   "execution_count": null,
   "metadata": {
    "id": "rkgxjbhefZ6u"
   },
   "outputs": [],
   "source": [
    "#Agent results\n",
    "G = nx.Graph()\n",
    "\n",
    "trade = results_df.dropna(subset=[\"Trade Network\"])\n",
    "# add agent keys to make initial node set\n",
    "G.add_nodes_from(list(trade[\"AgentID\"].unique()))\n",
    "\n",
    "# create edge list\n",
    "for idx, row in trade.iterrows():\n",
    "    if len(row[\"Trade Network\"]) > 0:\n",
    "        for agent in row[\"Trade Network\"]:\n",
    "            G.add_edge(row[\"AgentID\"], agent)"
   ]
  },
  {
   "cell_type": "code",
   "execution_count": null,
   "metadata": {
    "colab": {
     "base_uri": "https://localhost:8080/"
    },
    "id": "wtClxAjx_g3y",
    "outputId": "2f82bc8d-71cc-4956-96a3-c450482f8852"
   },
   "outputs": [],
   "source": [
    "#Get some statistics\n",
    "\n",
    "print(f\"Node Connectivity {nx.node_connectivity(G)}\")\n",
    "print(f\"Average Clustering {nx.average_clustering(G)}\")\n",
    "print(f\"Global Efficiency {nx.global_efficiency(G)}\")"
   ]
  },
  {
   "cell_type": "code",
   "execution_count": null,
   "metadata": {
    "colab": {
     "base_uri": "https://localhost:8080/",
     "height": 499
    },
    "id": "p74gGrmZ_lTD",
    "outputId": "40cc397d-4d05-482c-9aa4-a98369164941"
   },
   "outputs": [],
   "source": [
    "#Plot a histogram of number of links\n",
    "\n",
    "degree_sequence = sorted((d for n, d in G.degree()), reverse=True)\n",
    "degree_sequence = [d for n, d in G.degree()]\n",
    "plt.hist(degree_sequence)"
   ]
  },
  {
   "cell_type": "code",
   "execution_count": null,
   "metadata": {
    "colab": {
     "base_uri": "https://localhost:8080/",
     "height": 516
    },
    "id": "vLEairFy_6tg",
    "outputId": "3096799b-6e09-4d3b-c6b2-e48b6fd2514c"
   },
   "outputs": [],
   "source": [
    "# Plot network\n",
    "nx.draw(G)"
   ]
  }
 ],
 "metadata": {
  "colab": {
   "authorship_tag": "ABX9TyPStyOepLlVZHt4Wn02RvpH",
   "collapsed_sections": [
    "XAnII-29m3r2",
    "wp0VWkylOKr9",
    "BkX5GqjSnAu0",
    "XYcwNrHqnrPt"
   ],
   "include_colab_link": true,
   "provenance": []
  },
  "kernelspec": {
   "display_name": "Python 3",
   "name": "python3"
  },
  "language_info": {
   "name": "python"
  }
 },
 "nbformat": 4,
 "nbformat_minor": 0
}
