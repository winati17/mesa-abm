{
 "cells": [
  {
   "cell_type": "markdown",
   "metadata": {
    "colab_type": "text",
    "id": "view-in-github"
   },
   "source": [
    "<a href=\"https://colab.research.google.com/github/SFIComplexityExplorer/Mesa-ABM-Tutorial/blob/main/Session_18_Data_Collector_Model.ipynb\" target=\"_parent\"><img src=\"https://colab.research.google.com/assets/colab-badge.svg\" alt=\"Open In Colab\"/></a>"
   ]
  },
  {
   "cell_type": "markdown",
   "metadata": {},
   "source": [
    "Winati Mutmainnah (D121221014)"
   ]
  },
  {
   "cell_type": "markdown",
   "metadata": {
    "id": "XAnII-29m3r2"
   },
   "source": [
    "# Import Dependencies"
   ]
  },
  {
   "cell_type": "code",
   "execution_count": 16,
   "metadata": {
    "colab": {
     "base_uri": "https://localhost:8080/"
    },
    "id": "ikSl2Mz0m252",
    "outputId": "766f2e26-b3a6-41d4-dca5-a153222757fc"
   },
   "outputs": [],
   "source": [
    "import mesa\n",
    "import numpy as np\n",
    "import math\n",
    "import matplotlib.pyplot as plt"
   ]
  },
  {
   "cell_type": "markdown",
   "metadata": {
    "id": "wp0VWkylOKr9"
   },
   "source": [
    "# Helper Functions"
   ]
  },
  {
   "cell_type": "code",
   "execution_count": 17,
   "metadata": {
    "id": "kg-JVcwzON_b"
   },
   "outputs": [],
   "source": [
    "def get_distance(pos_1, pos_2):\n",
    "  '''\n",
    "  Calculate the Euclidean distance between two positions\n",
    "\n",
    "  used in trade.move()\n",
    "  '''\n",
    "\n",
    "  x1, y1 = pos_1\n",
    "  x2, y2 = pos_2\n",
    "  dx = x1 - x2\n",
    "  dy = y1 - y2\n",
    "  return math.sqrt(dx**2 + dy**2)\n",
    "\n",
    "def flatten(list_of_lists):\n",
    "  '''\n",
    "  helper function for model datacollector for trade price\n",
    "  collapses agent price list into one list\n",
    "  '''\n",
    "  return [item for sublist in list_of_lists for item in sublist]\n",
    "\n",
    "def geometric_mean(list_of_prices):\n",
    "  '''\n",
    "  find the geometric mean of a list of prices\n",
    "  '''\n",
    "  return np.exp(np.log(list_of_prices).mean())"
   ]
  },
  {
   "cell_type": "markdown",
   "metadata": {
    "id": "BkX5GqjSnAu0"
   },
   "source": [
    "# Resource Classes"
   ]
  },
  {
   "cell_type": "code",
   "execution_count": 18,
   "metadata": {
    "id": "o1EOk5KMnC55"
   },
   "outputs": [],
   "source": [
    "class Sugar(mesa.Agent):\n",
    "  \"\"\"\n",
    "  Sugar:\n",
    "  - contains an amount of sugar\n",
    "  - grows 1 amount of sugar at each turn\n",
    "  \"\"\"\n",
    "\n",
    "  def __init__(self, unique_id, model, pos, max_sugar):\n",
    "    super().__init__(unique_id, model)\n",
    "    self.pos = pos\n",
    "    self.amount = max_sugar\n",
    "    self.max_sugar = max_sugar\n",
    "\n",
    "\n",
    "  def step(self):\n",
    "    '''\n",
    "    Sugar growth function, adds one unit of sugar each step until\n",
    "    max amount\n",
    "    '''\n",
    "    self.amount = min([self.max_sugar, self.amount+1])"
   ]
  },
  {
   "cell_type": "code",
   "execution_count": 19,
   "metadata": {
    "id": "-oJ35Mx7nXmK"
   },
   "outputs": [],
   "source": [
    "class Spice(mesa.Agent):\n",
    "  \"\"\"\n",
    "  Spice:\n",
    "  - contains an amount of spice\n",
    "  - grows 1 amount of spice at each turn\n",
    "  \"\"\"\n",
    "\n",
    "  def __init__(self, unique_id, model, pos, max_spice):\n",
    "    super().__init__(unique_id, model)\n",
    "    self.pos = pos\n",
    "    self.amount = max_spice\n",
    "    self.max_spice = max_spice\n",
    "\n",
    "  def step(self):\n",
    "    '''\n",
    "    Spice growth function, adds one unit of spice each step until\n",
    "    max amout\n",
    "    '''\n",
    "    self.amount = min([self.max_spice, self.amount+1])"
   ]
  },
  {
   "cell_type": "markdown",
   "metadata": {
    "id": "XYcwNrHqnrPt"
   },
   "source": [
    "# Trader Agent"
   ]
  },
  {
   "cell_type": "code",
   "execution_count": 20,
   "metadata": {
    "id": "t51BNfwUnt53"
   },
   "outputs": [],
   "source": [
    "class Trader(mesa.Agent):\n",
    "  \"\"\"\n",
    "  Trader:\n",
    "  - has a metabolism of sugar and spice\n",
    "  - harvest and trade sugar and spice to survive\n",
    "  \"\"\"\n",
    "\n",
    "\n",
    "  def __init__(self, unique_id, model, pos, moore=False, sugar=0,\n",
    "               spice=0, metabolism_sugar=0, metabolism_spice=0,\n",
    "               vision=0):\n",
    "    super().__init__(unique_id, model)\n",
    "    self.pos = pos\n",
    "    self.moore = moore\n",
    "    self.sugar = sugar\n",
    "    self.spice = spice\n",
    "    self.metabolism_sugar = metabolism_sugar\n",
    "    self.metabolism_spice = metabolism_spice\n",
    "    self.vision = vision\n",
    "    self.prices = []\n",
    "    self.trade_partners = []\n",
    "\n",
    "\n",
    "  def get_sugar(self, pos):\n",
    "    '''\n",
    "    used in self.get_sugar_amount()\n",
    "    '''\n",
    "\n",
    "    this_cell = self.model.grid.get_cell_list_contents(pos)\n",
    "    for agent in this_cell:\n",
    "      if type(agent) is Sugar:\n",
    "        return agent\n",
    "    return None\n",
    "\n",
    "\n",
    "  def get_sugar_amount(self,pos):\n",
    "    '''\n",
    "    used in self.move() as part of self.calculate_welfare()\n",
    "    '''\n",
    "\n",
    "    sugar_patch = self.get_sugar(pos)\n",
    "    if sugar_patch:\n",
    "      return sugar_patch.amount\n",
    "    return 0\n",
    "\n",
    "  def get_spice(self, pos):\n",
    "    '''\n",
    "    used in self.get_spice_amount()\n",
    "    '''\n",
    "\n",
    "    this_cell = self.model.grid.get_cell_list_contents(pos)\n",
    "    for agent in this_cell:\n",
    "      if type(agent) is Spice:\n",
    "        return agent\n",
    "    return None\n",
    "\n",
    "  def get_spice_amount(self, pos):\n",
    "    '''\n",
    "    used in self.move() as part of self.calculate_welfare()\n",
    "    '''\n",
    "\n",
    "    spice_patch = self.get_spice(pos)\n",
    "    if spice_patch:\n",
    "      return spice_patch.amount\n",
    "    return 0\n",
    "\n",
    "  def get_trader(self, pos):\n",
    "      '''\n",
    "      helper function used in self.trade_with_neighbors()\n",
    "      '''\n",
    "\n",
    "      this_cell = self.model.grid.get_cell_list_contents(pos)\n",
    "\n",
    "      for agent in this_cell:\n",
    "        if isinstance(agent, Trader):\n",
    "          return agent\n",
    "\n",
    "\n",
    "  def is_occupied_by_other(self,pos):\n",
    "    '''\n",
    "    helper function part 1 of self.move()\n",
    "    '''\n",
    "\n",
    "    if pos == self.pos:\n",
    "      # agent's position is considered unoccupied as agent can stay there\n",
    "      return False\n",
    "    # get contents of each cell in neighborhood\n",
    "    this_cell = self.model.grid.get_cell_list_contents(pos)\n",
    "    for a in this_cell:\n",
    "      # see if occupied by another agent\n",
    "      if isinstance(a, Trader):\n",
    "        return True\n",
    "    return False\n",
    "\n",
    "  def calculate_welfare(self, sugar, spice):\n",
    "    '''\n",
    "    helper function\n",
    "\n",
    "    part 2 self.move()\n",
    "    self.trade()\n",
    "    '''\n",
    "\n",
    "    # calculate total resources\n",
    "    m_total = self.metabolism_sugar + self.metabolism_spice\n",
    "    # Cobb-Douglas functional form; starting on p. 97 on Growing Artificial Societies\n",
    "    return sugar**(self.metabolism_sugar/m_total) * spice**(\n",
    "        self.metabolism_spice/m_total)\n",
    "\n",
    "\n",
    "  def is_starved(self):\n",
    "    '''\n",
    "    Helper function for self.maybe_die()\n",
    "    '''\n",
    "\n",
    "    return (self.sugar <= 0) or (self.spice <= 0)\n",
    "\n",
    "  def calculate_MRS(self, sugar, spice):\n",
    "    '''\n",
    "    Helper function\n",
    "\n",
    "    - self.trade()\n",
    "    - self.maybe_sell_spice\n",
    "\n",
    "    Determines what trader agent is needs and can give up\n",
    "    '''\n",
    "\n",
    "    return (spice/self.metabolism_spice) / (sugar/self.metabolism_sugar)\n",
    "\n",
    "  def calculate_sell_spice_amount(self, price):\n",
    "    '''\n",
    "    helper function for self.maybe_sell_spice() which is called from\n",
    "    self.trade()\n",
    "    '''\n",
    "\n",
    "    if price >= 1:\n",
    "      sugar = 1\n",
    "      spice = int(price)\n",
    "    else:\n",
    "      sugar = int(1/price)\n",
    "      spice = 1\n",
    "    return sugar, spice\n",
    "\n",
    "  def sell_spice(self, other, sugar, spice):\n",
    "    '''\n",
    "    used in self.maybe_sell_spice()\n",
    "\n",
    "    exchanges sugar and spice between traders\n",
    "    '''\n",
    "\n",
    "    self.sugar += sugar\n",
    "    other.sugar -= sugar\n",
    "    self.spice -= spice\n",
    "    other.spice += spice\n",
    "\n",
    "\n",
    "  def maybe_sell_spice(self, other, price, welfare_self, welfare_other):\n",
    "    '''\n",
    "    helper function for self.trade()\n",
    "    '''\n",
    "\n",
    "    sugar_exchanged, spice_exchanged = self.calculate_sell_spice_amount(price)\n",
    "\n",
    "    # Assess new sugar and spice amount - what if change did occur\n",
    "    self_sugar = self.sugar + sugar_exchanged\n",
    "    other_sugar = other.sugar - sugar_exchanged\n",
    "    self_spice = self.spice - spice_exchanged\n",
    "    other_spice = other.spice + spice_exchanged\n",
    "\n",
    "    # double check to ensure agents have resources\n",
    "\n",
    "    if ((self_sugar <= 0) or\n",
    "        (other_sugar <=0) or\n",
    "        (self_spice <= 0) or\n",
    "        (other_spice <= 0)):\n",
    "      return False\n",
    "\n",
    "    # trade criteria #1 - are both agents better off?\n",
    "    both_agents_better_off = (\n",
    "        (welfare_self < self.calculate_welfare(self_sugar, self_spice)) and\n",
    "        (welfare_other < other.calculate_welfare(other_sugar, other_spice)))\n",
    "\n",
    "    # trade criteria #2 is their mrs crossing\n",
    "    mrs_not_crossing = self.calculate_MRS(self_sugar, self_spice\n",
    "                                          ) > other.calculate_MRS(\n",
    "                                              other_sugar, other_spice)\n",
    "\n",
    "    if not (both_agents_better_off and mrs_not_crossing):\n",
    "      return False\n",
    "\n",
    "    # criteria met, execute trade\n",
    "    self.sell_spice(other, sugar_exchanged, spice_exchanged)\n",
    "\n",
    "    return True\n",
    "\n",
    "\n",
    "  def trade(self, other):\n",
    "    '''\n",
    "    helper function used in trade_with_neighbors()\n",
    "\n",
    "    other is a trader agent object\n",
    "    '''\n",
    "\n",
    "    # sanity check to verify code is working as expected\n",
    "    assert self.sugar > 0\n",
    "    assert self.spice > 0\n",
    "    assert other.sugar > 0\n",
    "    assert other.spice > 0\n",
    "\n",
    "    # calculate marginal rate of subsitution in Growing Artificial Socieites p. 101\n",
    "    mrs_self = self.calculate_MRS(self.sugar, self.spice)\n",
    "    mrs_other = other.calculate_MRS(other.sugar, other.spice)\n",
    "\n",
    "    #calculate each agents welfare\n",
    "    welfare_self = self.calculate_welfare(self.sugar, self.spice)\n",
    "    welfare_other = other.calculate_welfare(other.sugar, other.spice)\n",
    "\n",
    "    if math.isclose(mrs_self, mrs_other):\n",
    "      return\n",
    "\n",
    "    # calcualte price\n",
    "    price = math.sqrt(mrs_self*mrs_other)\n",
    "\n",
    "    if mrs_self > mrs_other:\n",
    "      # self is a sugar buyer, spice seller\n",
    "      sold = self.maybe_sell_spice(other, price, welfare_self, welfare_other)\n",
    "      # no trade - criteria not met\n",
    "      if not sold:\n",
    "        return\n",
    "    else:\n",
    "      # self is a spice buyer, sugar seller\n",
    "      sold = other.maybe_sell_spice(self, price, welfare_other, welfare_self)\n",
    "      # no trade - criteria not met\n",
    "      if not sold:\n",
    "        return\n",
    "\n",
    "    # Capture data\n",
    "    self.prices.append(price)\n",
    "    self.trade_partners.append(other.unique_id)\n",
    "\n",
    "    # continue trading\n",
    "    self.trade(other)\n",
    "\n",
    "  ######################################################################\n",
    "  #                                                                    #\n",
    "  #                      MAIN TRADE FUNCTIONS                          #\n",
    "  #                                                                    #\n",
    "  ######################################################################\n",
    "\n",
    "\n",
    "  def move(self):\n",
    "    '''\n",
    "    Function for trader agent to identify optimal move for each step in 4 parts\n",
    "    1 - identify all possible moves\n",
    "    2 - determine which move maximizes welfare\n",
    "    3 - find closest best option\n",
    "    4 - move\n",
    "    '''\n",
    "\n",
    "    # 1. identify all possible moves\n",
    "\n",
    "    neighbors = [i\n",
    "                 for i in self.model.grid.get_neighborhood(\n",
    "                   self.pos, self.moore, True, self.vision\n",
    "                 ) if not self.is_occupied_by_other(i)]\n",
    "\n",
    "    # 2. determine which move maximizes welfare\n",
    "\n",
    "    welfares = [\n",
    "        self.calculate_welfare(\n",
    "            self.sugar + self.get_sugar_amount(pos),\n",
    "            self.spice + self.get_spice_amount(pos))\n",
    "        for pos in neighbors\n",
    "    ]\n",
    "\n",
    "    # 3. Find closest best option\n",
    "\n",
    "    # find the highest welfare in welfares\n",
    "    max_welfare = max(welfares)\n",
    "    # get the index of max welfare cells\n",
    "    candidate_indices = [i for i in range(len(welfares))\n",
    "                        if math.isclose(welfares[i], max_welfare)]\n",
    "\n",
    "    # convert index to positions of those cells\n",
    "    candidates = [neighbors[i] for i in candidate_indices]\n",
    "\n",
    "    min_dist = min(get_distance(self.pos, pos) for pos in candidates)\n",
    "\n",
    "    final_candidates = [ pos for pos in candidates\n",
    "                       if math.isclose(get_distance(self.pos, pos), min_dist, rel_tol=1e-02\n",
    "                                       )]\n",
    "    self.random.shuffle(final_candidates)\n",
    "\n",
    "    # 4. Move Agent\n",
    "    self.model.grid.move_agent(self, final_candidates[0])\n",
    "\n",
    "  def eat(self):\n",
    "    # get sugar\n",
    "    sugar_patch = self.get_sugar(self.pos)\n",
    "\n",
    "    if sugar_patch:\n",
    "        self.sugar += sugar_patch.amount\n",
    "        sugar_patch.amount = 0\n",
    "    self.sugar -= self.metabolism_sugar\n",
    "\n",
    "    # get_spice\n",
    "    spice_patch = self.get_spice(self.pos)\n",
    "\n",
    "    if spice_patch:\n",
    "        self.spice += spice_patch.amount\n",
    "        spice_patch.amount = 0\n",
    "    self.spice -= self.metabolism_spice\n",
    "\n",
    "  def maybe_die(self):\n",
    "    '''\n",
    "    Function to remove Traders who have consumed all their sugar or spice\n",
    "    '''\n",
    "\n",
    "    if self.is_starved():\n",
    "      self.model.grid.remove_agent(self)\n",
    "      self.model.schedule.remove(self)\n",
    "\n",
    "  def trade_with_neighbors(self):\n",
    "    '''\n",
    "    Function for trader agents to decide who to trade with in three parts\n",
    "\n",
    "    1- identify neighbors who can trade\n",
    "    2- trade (2 sessions)\n",
    "    3- collect data\n",
    "    '''\n",
    "\n",
    "    neighbor_agents = [self.get_trader(pos) for pos in self.model.grid.get_neighborhood(\n",
    "        self.pos, self.moore, False, self.vision) if self.is_occupied_by_other(pos)\n",
    "    ]\n",
    "\n",
    "    if len(neighbor_agents) == 0:\n",
    "      return\n",
    "\n",
    "\n",
    "    # iterate through traders in neighboring cells and trade\n",
    "    for a in neighbor_agents:\n",
    "      if a:\n",
    "        self.trade(a)\n",
    "\n",
    "    return"
   ]
  },
  {
   "cell_type": "markdown",
   "metadata": {
    "id": "SRrU2ABBoF0i"
   },
   "source": [
    "# Model Class"
   ]
  },
  {
   "cell_type": "code",
   "execution_count": 21,
   "metadata": {
    "id": "7DTonjahn2BT"
   },
   "outputs": [],
   "source": [
    "class SugarscapeG1mt(mesa.Model):\n",
    "  \"\"\"\n",
    "  Manager class to run Sugarscape with Traders\n",
    "  \"\"\"\n",
    "\n",
    "\n",
    "  def __init__(self, width=50,height=50, initial_population=200,\n",
    "               endowment_min=25, endowment_max=50, metabolism_min=1,\n",
    "               metabolism_max=5, vision_min=1, vision_max=5):\n",
    "\n",
    "    super().__init__()\n",
    "    #Initiate width and heigh of sugarscape\n",
    "    self.width = width\n",
    "    self.height = height\n",
    "    #Initiate population attributes\n",
    "    self.initial_population = initial_population\n",
    "    self.endowment_min = endowment_min\n",
    "    self.endowment_max = endowment_max\n",
    "    self.metabolism_min = metabolism_min\n",
    "    self.metabolism_max = metabolism_max\n",
    "    self.vision_min = vision_min\n",
    "    self.vision_max = vision_max\n",
    "\n",
    "    # initiate activation schedule\n",
    "    self.schedule = mesa.time.RandomActivationByType(self)\n",
    "    # initiate mesa grid class\n",
    "    self.grid = mesa.space.MultiGrid(self.width, self.height, torus=False)\n",
    "    # initiate datacollector\n",
    "    self.datacollector = mesa.DataCollector(\n",
    "        {\"Trader\": lambda m: m.schedule.get_type_count(Trader),\n",
    "         \"Trade Volume\": lambda m: sum(len(a.trade_partners)\n",
    "         for a in m.schedule.agents_by_type[Trader].values()),\n",
    "         \"Price\": lambda m: geometric_mean(flatten([a.prices for a in m.schedule.agents_by_type[Trader].values()]))}\n",
    "    )\n",
    "\n",
    "\n",
    "    #read in landscape file from supplmentary material\n",
    "    sugar_distribution =np.genfromtxt(\"sugar-map.txt\")\n",
    "    spice_distribution = np.flip(sugar_distribution, 1)\n",
    "\n",
    "    agent_id = 0\n",
    "    for _,(x,y) in self.grid.coord_iter():\n",
    "      max_sugar = sugar_distribution[x,y]\n",
    "      if max_sugar > 0:\n",
    "        sugar = Sugar(agent_id, self, (x,y), max_sugar)\n",
    "        self.schedule.add(sugar)\n",
    "        self.grid.place_agent(sugar, (x,y))\n",
    "        agent_id += 1\n",
    "\n",
    "      max_spice = spice_distribution[x,y]\n",
    "      if max_spice > 0:\n",
    "        spice = Spice(agent_id, self, (x,y), max_spice)\n",
    "        self.schedule.add(spice)\n",
    "        self.grid.place_agent(spice, (x,y))\n",
    "        agent_id += 1\n",
    "\n",
    "    for i in range(self.initial_population):\n",
    "      #get agent position\n",
    "      x = self.random.randrange(self.width)\n",
    "      y = self.random.randrange(self.height)\n",
    "      #see Growing Artificial Societies p. 108 for initialization\n",
    "      #give agents initial endowment\n",
    "      sugar = int(self.random.uniform(self.endowment_min, self.endowment_max+1))\n",
    "      spice = int(self.random.uniform(self.endowment_min, self.endowment_max+1))\n",
    "      #give agents initial metabolism\n",
    "      metabolism_sugar = int(self.random.uniform(self.metabolism_min, self.metabolism_max+1))\n",
    "      metabolism_spice = int(self.random.uniform(self.metabolism_min, self.metabolism_max+1))\n",
    "      #give agents vision\n",
    "      vision = int(self.random.uniform(self.vision_min, self.vision_max+1))\n",
    "      #create Trader object\n",
    "      trader = Trader(agent_id,\n",
    "                      self,\n",
    "                      (x,y),\n",
    "                      moore = False,\n",
    "                      sugar = sugar,\n",
    "                      spice = spice,\n",
    "                      metabolism_sugar = metabolism_sugar,\n",
    "                      metabolism_spice = metabolism_spice,\n",
    "                      vision = vision)\n",
    "      #place agent\n",
    "      self.grid.place_agent(trader, (x,y))\n",
    "      self.schedule.add(trader)\n",
    "      agent_id += 1\n",
    "\n",
    "  def randomize_traders(self):\n",
    "    '''\n",
    "    helper function for self.step()\n",
    "\n",
    "    puts traders in randomized list for step function\n",
    "    '''\n",
    "\n",
    "    trader_shuffle = list(self.schedule.agents_by_type[Trader].values())\n",
    "    self.random.shuffle(trader_shuffle)\n",
    "\n",
    "    return trader_shuffle\n",
    "\n",
    "\n",
    "  def step(self):\n",
    "    '''\n",
    "    Unique step function that does staged activation of sugar and spice\n",
    "    and then randomly activates traders\n",
    "    '''\n",
    "    # step Sugar agents\n",
    "    for sugar in self.schedule.agents_by_type[Sugar].values():\n",
    "      sugar.step()\n",
    "\n",
    "    # step Spice agents\n",
    "    for spice in self.schedule.agents_by_type[Spice].values():\n",
    "      spice.step()\n",
    "\n",
    "    # step trader agents\n",
    "    # to account for agent death and removal we need a seperate data strcuture to\n",
    "    # iterate\n",
    "    trader_shuffle = self.randomize_traders()\n",
    "\n",
    "    for agent in trader_shuffle:\n",
    "      agent.prices = []\n",
    "      agent.trade_partners = []\n",
    "      agent.move()\n",
    "      agent.eat()\n",
    "      agent.maybe_die()\n",
    "\n",
    "    trader_shuffle = self.randomize_traders()\n",
    "\n",
    "    for agent in trader_shuffle:\n",
    "      agent.trade_with_neighbors()\n",
    "\n",
    "    self.schedule.steps += 1 #important for data collector to track number of steps\n",
    "\n",
    "    # collect model level data\n",
    "    self.datacollector.collect(self)\n",
    "\n",
    "  def run_model(self, step_count=1000):\n",
    "\n",
    "    for i in range(step_count):\n",
    "      self.step()"
   ]
  },
  {
   "cell_type": "markdown",
   "metadata": {
    "id": "_KHKfeD9oiYo"
   },
   "source": [
    "# Run Sugarscape"
   ]
  },
  {
   "cell_type": "code",
   "execution_count": 22,
   "metadata": {
    "colab": {
     "base_uri": "https://localhost:8080/"
    },
    "id": "at455urSol7b",
    "outputId": "7e5ff4b1-c839-4a2c-8c7a-2115a84731d9"
   },
   "outputs": [
    {
     "name": "stderr",
     "output_type": "stream",
     "text": [
      "C:\\Users\\lenovo\\AppData\\Local\\Temp\\ipykernel_12860\\2271728438.py:104: DeprecationWarning: Because of the shift to using AgentSet, in the future this attribute will return a dict withtype as key as AgentSet as value. Future behavior is available via RandomActivationByType._agents_by_type\n",
      "  for sugar in self.schedule.agents_by_type[Sugar].values():\n",
      "C:\\Users\\lenovo\\AppData\\Local\\Temp\\ipykernel_12860\\2271728438.py:108: DeprecationWarning: Because of the shift to using AgentSet, in the future this attribute will return a dict withtype as key as AgentSet as value. Future behavior is available via RandomActivationByType._agents_by_type\n",
      "  for spice in self.schedule.agents_by_type[Spice].values():\n",
      "C:\\Users\\lenovo\\AppData\\Local\\Temp\\ipykernel_12860\\2271728438.py:92: DeprecationWarning: Because of the shift to using AgentSet, in the future this attribute will return a dict withtype as key as AgentSet as value. Future behavior is available via RandomActivationByType._agents_by_type\n",
      "  trader_shuffle = list(self.schedule.agents_by_type[Trader].values())\n",
      "C:\\Users\\lenovo\\AppData\\Local\\Temp\\ipykernel_12860\\2271728438.py:32: DeprecationWarning: Because of the shift to using AgentSet, in the future this attribute will return a dict withtype as key as AgentSet as value. Future behavior is available via RandomActivationByType._agents_by_type\n",
      "  for a in m.schedule.agents_by_type[Trader].values()),\n",
      "C:\\Users\\lenovo\\AppData\\Local\\Temp\\ipykernel_12860\\2271728438.py:33: DeprecationWarning: Because of the shift to using AgentSet, in the future this attribute will return a dict withtype as key as AgentSet as value. Future behavior is available via RandomActivationByType._agents_by_type\n",
      "  \"Price\": lambda m: geometric_mean(flatten([a.prices for a in m.schedule.agents_by_type[Trader].values()]))}\n",
      "C:\\Users\\lenovo\\AppData\\Local\\Temp\\ipykernel_12860\\1153141953.py:25: RuntimeWarning: Mean of empty slice.\n",
      "  return np.exp(np.log(list_of_prices).mean())\n",
      "C:\\Users\\lenovo\\AppData\\Local\\Packages\\PythonSoftwareFoundation.Python.3.12_qbz5n2kfra8p0\\LocalCache\\local-packages\\Python312\\site-packages\\numpy\\core\\_methods.py:129: RuntimeWarning: invalid value encountered in scalar divide\n",
      "  ret = ret.dtype.type(ret / rcount)\n"
     ]
    }
   ],
   "source": [
    "model = SugarscapeG1mt()\n",
    "model.run_model()\n",
    "\n",
    "import warnings\n",
    "warnings.filterwarnings(\"ignore\", category=UserWarning) "
   ]
  },
  {
   "cell_type": "markdown",
   "metadata": {
    "id": "XQ7ykQMWoRyU"
   },
   "source": [
    "# Analyze Data"
   ]
  },
  {
   "cell_type": "code",
   "execution_count": 23,
   "metadata": {
    "colab": {
     "base_uri": "https://localhost:8080/",
     "height": 423
    },
    "id": "vemquyVptT3Z",
    "outputId": "4aa5929d-53dd-492d-f045-9d71fa72dd46"
   },
   "outputs": [
    {
     "data": {
      "text/html": [
       "<div>\n",
       "<style scoped>\n",
       "    .dataframe tbody tr th:only-of-type {\n",
       "        vertical-align: middle;\n",
       "    }\n",
       "\n",
       "    .dataframe tbody tr th {\n",
       "        vertical-align: top;\n",
       "    }\n",
       "\n",
       "    .dataframe thead th {\n",
       "        text-align: right;\n",
       "    }\n",
       "</style>\n",
       "<table border=\"1\" class=\"dataframe\">\n",
       "  <thead>\n",
       "    <tr style=\"text-align: right;\">\n",
       "      <th></th>\n",
       "      <th>Trader</th>\n",
       "      <th>Trade Volume</th>\n",
       "      <th>Price</th>\n",
       "    </tr>\n",
       "  </thead>\n",
       "  <tbody>\n",
       "    <tr>\n",
       "      <th>0</th>\n",
       "      <td>200</td>\n",
       "      <td>776</td>\n",
       "      <td>0.937697</td>\n",
       "    </tr>\n",
       "    <tr>\n",
       "      <th>1</th>\n",
       "      <td>200</td>\n",
       "      <td>138</td>\n",
       "      <td>1.007380</td>\n",
       "    </tr>\n",
       "    <tr>\n",
       "      <th>2</th>\n",
       "      <td>200</td>\n",
       "      <td>161</td>\n",
       "      <td>0.905800</td>\n",
       "    </tr>\n",
       "    <tr>\n",
       "      <th>3</th>\n",
       "      <td>200</td>\n",
       "      <td>81</td>\n",
       "      <td>0.987116</td>\n",
       "    </tr>\n",
       "    <tr>\n",
       "      <th>4</th>\n",
       "      <td>200</td>\n",
       "      <td>80</td>\n",
       "      <td>0.901414</td>\n",
       "    </tr>\n",
       "    <tr>\n",
       "      <th>...</th>\n",
       "      <td>...</td>\n",
       "      <td>...</td>\n",
       "      <td>...</td>\n",
       "    </tr>\n",
       "    <tr>\n",
       "      <th>995</th>\n",
       "      <td>68</td>\n",
       "      <td>5</td>\n",
       "      <td>0.994249</td>\n",
       "    </tr>\n",
       "    <tr>\n",
       "      <th>996</th>\n",
       "      <td>68</td>\n",
       "      <td>7</td>\n",
       "      <td>1.029177</td>\n",
       "    </tr>\n",
       "    <tr>\n",
       "      <th>997</th>\n",
       "      <td>68</td>\n",
       "      <td>5</td>\n",
       "      <td>0.838310</td>\n",
       "    </tr>\n",
       "    <tr>\n",
       "      <th>998</th>\n",
       "      <td>68</td>\n",
       "      <td>4</td>\n",
       "      <td>1.073445</td>\n",
       "    </tr>\n",
       "    <tr>\n",
       "      <th>999</th>\n",
       "      <td>68</td>\n",
       "      <td>7</td>\n",
       "      <td>0.988142</td>\n",
       "    </tr>\n",
       "  </tbody>\n",
       "</table>\n",
       "<p>1000 rows × 3 columns</p>\n",
       "</div>"
      ],
      "text/plain": [
       "     Trader  Trade Volume     Price\n",
       "0       200           776  0.937697\n",
       "1       200           138  1.007380\n",
       "2       200           161  0.905800\n",
       "3       200            81  0.987116\n",
       "4       200            80  0.901414\n",
       "..      ...           ...       ...\n",
       "995      68             5  0.994249\n",
       "996      68             7  1.029177\n",
       "997      68             5  0.838310\n",
       "998      68             4  1.073445\n",
       "999      68             7  0.988142\n",
       "\n",
       "[1000 rows x 3 columns]"
      ]
     },
     "execution_count": 23,
     "metadata": {},
     "output_type": "execute_result"
    }
   ],
   "source": [
    "results = model.datacollector.get_model_vars_dataframe()\n",
    "\n",
    "results"
   ]
  },
  {
   "cell_type": "code",
   "execution_count": 24,
   "metadata": {
    "colab": {
     "base_uri": "https://localhost:8080/",
     "height": 447
    },
    "id": "lr0rYpIpovMg",
    "outputId": "28e77912-aede-46a2-e167-839041068ba5"
   },
   "outputs": [
    {
     "data": {
      "text/plain": [
       "<Axes: >"
      ]
     },
     "execution_count": 24,
     "metadata": {},
     "output_type": "execute_result"
    },
    {
     "data": {
      "image/png": "[encoded data removed]",
      "text/plain": [
       "<Figure size 640x480 with 1 Axes>"
      ]
     },
     "metadata": {},
     "output_type": "display_data"
    }
   ],
   "source": [
    "# plot number of agents per time step\n",
    "results.plot(y = \"Trader\", use_index=True)"
   ]
  },
  {
   "cell_type": "code",
   "execution_count": 25,
   "metadata": {
    "colab": {
     "base_uri": "https://localhost:8080/",
     "height": 447
    },
    "id": "MIAxl_Oqo7M4",
    "outputId": "36de3197-622a-49d3-d982-e3a6ed251a05"
   },
   "outputs": [
    {
     "data": {
      "text/plain": [
       "<matplotlib.collections.PathCollection at 0x27331a42fc0>"
      ]
     },
     "execution_count": 25,
     "metadata": {},
     "output_type": "execute_result"
    },
    {
     "data": {
      "image/png": "[encoded data removed]",
      "text/plain": [
       "<Figure size 640x480 with 1 Axes>"
      ]
     },
     "metadata": {},
     "output_type": "display_data"
    }
   ],
   "source": [
    "# plot trade price per step\n",
    "\n",
    "y = list(results[\"Price\"])\n",
    "x = range(1000)\n",
    "\n",
    "plt.scatter(x,y, s=1)"
   ]
  },
  {
   "cell_type": "code",
   "execution_count": 26,
   "metadata": {
    "colab": {
     "base_uri": "https://localhost:8080/",
     "height": 447
    },
    "id": "BhVtqXWNpVVD",
    "outputId": "25aa5b68-f6e0-4c5b-9529-23b0f12a607b"
   },
   "outputs": [
    {
     "data": {
      "text/plain": [
       "<BarContainer object of 990 artists>"
      ]
     },
     "execution_count": 26,
     "metadata": {},
     "output_type": "execute_result"
    },
    {
     "data": {
      "image/png": "[encoded data removed]",
      "text/plain": [
       "<Figure size 640x480 with 1 Axes>"
      ]
     },
     "metadata": {},
     "output_type": "display_data"
    }
   ],
   "source": [
    "# Plot trade volume\n",
    "\n",
    "plt.bar(results.index[10:], results[\"Trade Volume\"][10:])"
   ]
  },
  {
   "cell_type": "code",
   "execution_count": 27,
   "metadata": {
    "colab": {
     "base_uri": "https://localhost:8080/",
     "height": 430
    },
    "id": "fJL9UPatpgOO",
    "outputId": "334f2070-94d1-49a4-d869-88d4b44a4e83"
   },
   "outputs": [
    {
     "data": {
      "image/png": "[encoded data removed]",
      "text/plain": [
       "<Figure size 640x480 with 1 Axes>"
      ]
     },
     "metadata": {},
     "output_type": "display_data"
    }
   ],
   "source": [
    "# Plot trade volume improved\n",
    "\n",
    "for i in range(1000):\n",
    "  plt.vlines(i,0,results[\"Trade Volume\"][i])"
   ]
  }
 ],
 "metadata": {
  "colab": {
   "authorship_tag": "ABX9TyPjZuVDYFSCr0dkbURgLId+",
   "collapsed_sections": [
    "XAnII-29m3r2",
    "wp0VWkylOKr9",
    "BkX5GqjSnAu0"
   ],
   "include_colab_link": true,
   "provenance": []
  },
  "kernelspec": {
   "display_name": "Python 3",
   "name": "python3"
  },
  "language_info": {
   "codemirror_mode": {
    "name": "ipython",
    "version": 3
   },
   "file_extension": ".py",
   "mimetype": "text/x-python",
   "name": "python",
   "nbconvert_exporter": "python",
   "pygments_lexer": "ipython3",
   "version": "3.12.7"
  }
 },
 "nbformat": 4,
 "nbformat_minor": 0
}
